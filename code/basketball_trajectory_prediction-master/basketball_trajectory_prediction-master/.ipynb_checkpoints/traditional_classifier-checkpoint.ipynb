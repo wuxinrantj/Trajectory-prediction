{
 "cells": [
  {
   "cell_type": "code",
   "execution_count": 30,
   "metadata": {
    "collapsed": true
   },
   "outputs": [],
   "source": [
    "from dataloader import DataLoad\n",
    "import numpy as np\n",
    "import cPickle as pickle\n",
    "import os"
   ]
  },
  {
   "cell_type": "code",
   "execution_count": 31,
   "metadata": {
    "collapsed": false
   },
   "outputs": [],
   "source": [
    "direc = './data/'  # directory of data file\n",
    "csv_file = 'seq_all.csv'\n",
    "processed_data = \"processed_data.pkl\"\n",
    "\n",
    "\n",
    "if not os.path.exists(direc+processed_data):\n",
    "    dl = DataLoad(direc, csv_file)\n",
    "    dl.munge_data(height=11.0, seq_len=12, dist=5.0)\n",
    "    basket_center = np.array([5.25, 25.0, 10.0])\n",
    "    dl.center_data(center_cent=basket_center)\n",
    "    sum_samples, num_train, num_test = dl.test_valid_data_split(ratio=0.8)\n",
    "    \n",
    "    X_train = dl.data['X_train']\n",
    "    y_train = dl.data['y_train']\n",
    "    X_test = dl.data['X_test']\n",
    "    y_test = dl.data['y_test']\n",
    "    #save data at local disk\n",
    "    with open(direc+processed_data, \"wb\") as f:\n",
    "        for _,data in enumerate([X_train, y_train, X_test, y_test]):\n",
    "            data = pickle.load(f)\n"
   ]
  },
  {
   "cell_type": "code",
   "execution_count": 32,
   "metadata": {
    "collapsed": false
   },
   "outputs": [],
   "source": [
    "#load data from local disk\n",
    "with open(direc+processed_data,\"rb\") as f:\n",
    "    for _,data in enumerate([X_train, y_train, X_test, y_test]):\n",
    "        data = pickle.load(f)\n",
    "\n",
    "\n",
    "\n",
    "    "
   ]
  },
  {
   "cell_type": "code",
   "execution_count": 34,
   "metadata": {
    "collapsed": false
   },
   "outputs": [
    {
     "name": "stdout",
     "output_type": "stream",
     "text": [
      "[ 1.  0.  1. ...,  0.  1.  0.]\n"
     ]
    }
   ],
   "source": [
    "print y_train\n"
   ]
  },
  {
   "cell_type": "raw",
   "metadata": {},
   "source": [
    "\n",
    "\n",
    "\n",
    "\n"
   ]
  }
 ],
 "metadata": {
  "anaconda-cloud": {},
  "kernelspec": {
   "display_name": "Python [conda root]",
   "language": "python",
   "name": "conda-root-py"
  },
  "language_info": {
   "codemirror_mode": {
    "name": "ipython",
    "version": 2
   },
   "file_extension": ".py",
   "mimetype": "text/x-python",
   "name": "python",
   "nbconvert_exporter": "python",
   "pygments_lexer": "ipython2",
   "version": "2.7.12"
  }
 },
 "nbformat": 4,
 "nbformat_minor": 2
}

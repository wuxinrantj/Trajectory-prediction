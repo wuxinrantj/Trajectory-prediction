{
 "cells": [
  {
   "cell_type": "code",
   "execution_count": 1,
   "metadata": {
    "ExecuteTime": {
     "end_time": "2018-03-13T08:07:28.055944Z",
     "start_time": "2018-03-13T06:53:19.043267Z"
    }
   },
   "outputs": [
    {
     "name": "stdout",
     "output_type": "stream",
     "text": [
      "Populating the interactive namespace from numpy and matplotlib\n"
     ]
    },
    {
     "data": {
      "application/vnd.jupyter.widget-view+json": {
       "model_id": "c28dc3d2af6a4fcc919fe4683b786370",
       "version_major": 2,
       "version_minor": 0
      },
      "text/html": [
       "<p>Failed to display Jupyter Widget of type <code>HBox</code>.</p>\n",
       "<p>\n",
       "  If you're reading this message in the Jupyter Notebook or JupyterLab Notebook, it may mean\n",
       "  that the widgets JavaScript is still loading. If this message persists, it\n",
       "  likely means that the widgets JavaScript library is either not installed or\n",
       "  not enabled. See the <a href=\"https://ipywidgets.readthedocs.io/en/stable/user_install.html\">Jupyter\n",
       "  Widgets Documentation</a> for setup instructions.\n",
       "</p>\n",
       "<p>\n",
       "  If you're reading this message in another frontend (for example, a static\n",
       "  rendering on GitHub or <a href=\"https://nbviewer.jupyter.org/\">NBViewer</a>),\n",
       "  it may mean that your frontend doesn't currently support widgets.\n",
       "</p>\n"
      ],
      "text/plain": [
       "HBox(children=(IntProgress(value=0), HTML(value=u'')))"
      ]
     },
     "metadata": {},
     "output_type": "display_data"
    },
    {
     "name": "stdout",
     "output_type": "stream",
     "text": [
      "\n",
      "---* geolife *---\n",
      "*** error ***\n",
      "1  steps error:  15.81158883146171\n",
      "10 steps error:  85.51956481677038\n",
      "20 steps error:  160.1085629579526\n",
      "30 steps error:  232.69902306781586\n",
      "40 steps error:  304.64739785933955\n",
      "50 steps error:  375.3739054397458\n",
      "\n",
      "*** acc ***\n",
      "1  steps acc:  0.9988\n",
      "10 steps acc:  0.94708\n",
      "20 steps acc:  0.76807\n",
      "30 steps acc:  0.57194\n",
      "40 steps acc:  0.4525825\n",
      "50 steps acc:  0.37173\n"
     ]
    }
   ],
   "source": [
    "%pylab inline\n",
    "import datetime\n",
    "import itertools\n",
    "import pandas as pd\n",
    "import numpy as np\n",
    "import warnings\n",
    "warnings.filterwarnings('ignore')\n",
    "import statsmodels.api as sm\n",
    "import matplotlib.pyplot as plt\n",
    "from tqdm import tqdm_notebook as tqdm\n",
    "from pandas import DataFrame,Series\n",
    "from geopy.distance import great_circle\n",
    "\n",
    "%run funcs_with_m_and_accurancy.py\n",
    "\n",
    "# 加载数据\n",
    "ctdf = pd.read_csv(\"../data/sample_test.txt\",index_col=0)\n",
    "all_predictions_v = load('../middata/geolife_all_predictions_v.npy')\n",
    "\n",
    "import warnings\n",
    "warnings.filterwarnings('ignore')\n",
    "\n",
    "all_error_rate_1_steps  = []\n",
    "all_error_rate_10_steps = []\n",
    "all_error_rate_20_steps = []\n",
    "all_error_rate_30_steps = []\n",
    "all_error_rate_40_steps = []\n",
    "all_error_rate_50_steps = []\n",
    "\n",
    "all_acc_rate_1_steps  = []\n",
    "all_acc_rate_10_steps = []\n",
    "all_acc_rate_20_steps = []\n",
    "all_acc_rate_30_steps = []\n",
    "all_acc_rate_40_steps = []\n",
    "all_acc_rate_50_steps = []\n",
    "\n",
    "for base_point in tqdm(range(29,129)):\n",
    "    predictions_v= []\n",
    "    all_error_rate_1_steps  = []\n",
    "    all_error_rate_10_steps = []\n",
    "    all_error_rate_20_steps = []\n",
    "    all_error_rate_30_steps = []\n",
    "    all_error_rate_40_steps = []\n",
    "    all_error_rate_50_steps = []\n",
    "    \n",
    "    all_acc_rate_1_steps  = []\n",
    "    all_acc_rate_10_steps = []\n",
    "    all_acc_rate_20_steps = []\n",
    "    all_acc_rate_30_steps = []\n",
    "    all_acc_rate_40_steps = []\n",
    "    all_acc_rate_50_steps = []\n",
    "\n",
    "    predictions_v = all_predictions_v[base_point - 29]\n",
    "    \n",
    "    over_error_arima1_1_step = over_error_arima1(ctdf,predictions_v[:,:1],last_point_num=base_point,steps=1,len_of_trail=200,r=200)\n",
    "    over_error_arima1_10_step = over_error_arima1(ctdf,predictions_v[:,:10],last_point_num=base_point,steps=10,len_of_trail=200,r=200)\n",
    "    over_error_arima1_20_step = over_error_arima1(ctdf,predictions_v[:,:20],last_point_num=base_point,steps=20,len_of_trail=200,r=200)\n",
    "    over_error_arima1_30_step = over_error_arima1(ctdf,predictions_v[:,:30],last_point_num=base_point,steps=30,len_of_trail=200,r=200)\n",
    "    over_error_arima1_40_step = over_error_arima1(ctdf,predictions_v[:,:40],last_point_num=base_point,steps=40,len_of_trail=200,r=200)\n",
    "    over_error_arima1_50_step = over_error_arima1(ctdf,predictions_v[:,:50],last_point_num=base_point,steps=50,len_of_trail=200,r=200)\n",
    "    \n",
    "    all_error_rate_1_steps  .append(over_error_arima1_1_step [0])\n",
    "    all_error_rate_10_steps .append(over_error_arima1_10_step[0])\n",
    "    all_error_rate_20_steps .append(over_error_arima1_20_step[0])\n",
    "    all_error_rate_30_steps .append(over_error_arima1_30_step[0])\n",
    "    all_error_rate_40_steps .append(over_error_arima1_40_step[0])\n",
    "    all_error_rate_50_steps .append(over_error_arima1_50_step[0])\n",
    "    \n",
    "    all_acc_rate_1_steps .append(over_error_arima1_1_step [1])\n",
    "    all_acc_rate_10_steps.append(over_error_arima1_10_step[1])\n",
    "    all_acc_rate_20_steps.append(over_error_arima1_20_step[1])\n",
    "    all_acc_rate_30_steps.append(over_error_arima1_30_step[1])\n",
    "    all_acc_rate_40_steps.append(over_error_arima1_40_step[1])\n",
    "    all_acc_rate_50_steps.append(over_error_arima1_50_step[1])\n",
    "    \n",
    "    \n",
    "    \n",
    "mean_all_error_rate_1_steps  =  mean(all_error_rate_1_steps )\n",
    "mean_all_error_rate_10_steps =  mean(all_error_rate_10_steps)\n",
    "mean_all_error_rate_20_steps =  mean(all_error_rate_20_steps)\n",
    "mean_all_error_rate_30_steps =  mean(all_error_rate_30_steps)\n",
    "mean_all_error_rate_40_steps =  mean(all_error_rate_40_steps)\n",
    "mean_all_error_rate_50_steps =  mean(all_error_rate_50_steps)\n",
    "\n",
    "mean_all_acc_rate_1_steps  =  mean(all_acc_rate_1_steps )\n",
    "mean_all_acc_rate_10_steps =  mean(all_acc_rate_10_steps)\n",
    "mean_all_acc_rate_20_steps =  mean(all_acc_rate_20_steps)\n",
    "mean_all_acc_rate_30_steps =  mean(all_acc_rate_30_steps)\n",
    "mean_all_acc_rate_40_steps =  mean(all_acc_rate_40_steps)\n",
    "mean_all_acc_rate_50_steps =  mean(all_acc_rate_50_steps)\n",
    "\n",
    "print '---* geolife *---'\n",
    "print '*** error ***'\n",
    "print '1  steps error: ',mean_all_error_rate_1_steps \n",
    "print '10 steps error: ',mean_all_error_rate_10_steps\n",
    "print '20 steps error: ',mean_all_error_rate_20_steps\n",
    "print '30 steps error: ',mean_all_error_rate_30_steps\n",
    "print '40 steps error: ',mean_all_error_rate_40_steps\n",
    "print '50 steps error: ',mean_all_error_rate_50_steps\n",
    "print ''\n",
    "print '*** acc ***'\n",
    "print '1  steps acc: ',mean_all_acc_rate_1_steps \n",
    "print '10 steps acc: ',mean_all_acc_rate_10_steps\n",
    "print '20 steps acc: ',mean_all_acc_rate_20_steps\n",
    "print '30 steps acc: ',mean_all_acc_rate_30_steps\n",
    "print '40 steps acc: ',mean_all_acc_rate_40_steps\n",
    "print '50 steps acc: ',mean_all_acc_rate_50_steps"
   ]
  }
 ],
 "metadata": {
  "kernelspec": {
   "display_name": "Python 2",
   "language": "python",
   "name": "python2"
  },
  "language_info": {
   "codemirror_mode": {
    "name": "ipython",
    "version": 2
   },
   "file_extension": ".py",
   "mimetype": "text/x-python",
   "name": "python",
   "nbconvert_exporter": "python",
   "pygments_lexer": "ipython2",
   "version": "2.7.14"
  },
  "nbTranslate": {
   "displayLangs": [
    "*"
   ],
   "hotkey": "alt-t",
   "langInMainMenu": true,
   "sourceLang": "en",
   "targetLang": "fr",
   "useGoogleTranslate": true
  },
  "toc": {
   "nav_menu": {},
   "number_sections": true,
   "sideBar": true,
   "skip_h1_title": true,
   "toc_cell": false,
   "toc_position": {},
   "toc_section_display": "block",
   "toc_window_display": false
  },
  "varInspector": {
   "cols": {
    "lenName": 16,
    "lenType": 16,
    "lenVar": 40
   },
   "kernels_config": {
    "python": {
     "delete_cmd_postfix": "",
     "delete_cmd_prefix": "del ",
     "library": "var_list.py",
     "varRefreshCmd": "print(var_dic_list())"
    },
    "r": {
     "delete_cmd_postfix": ") ",
     "delete_cmd_prefix": "rm(",
     "library": "var_list.r",
     "varRefreshCmd": "cat(var_dic_list()) "
    }
   },
   "types_to_exclude": [
    "module",
    "function",
    "builtin_function_or_method",
    "instance",
    "_Feature"
   ],
   "window_display": false
  }
 },
 "nbformat": 4,
 "nbformat_minor": 2
}

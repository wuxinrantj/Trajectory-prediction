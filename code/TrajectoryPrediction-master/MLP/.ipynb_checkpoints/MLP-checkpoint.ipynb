{
 "cells": [
  {
   "cell_type": "code",
   "execution_count": 1,
   "metadata": {},
   "outputs": [
    {
     "name": "stdout",
     "output_type": "stream",
     "text": [
      "Populating the interactive namespace from numpy and matplotlib\n",
      "beijing***********************************************************************************************\n",
      "data has been loaded\n",
      "creating graph...\n",
      "graph has been created\n",
      "initializing the session...\n",
      "training the model...\n"
     ]
    },
    {
     "data": {
      "application/vnd.jupyter.widget-view+json": {
       "model_id": "cb1f927321ed405a86f4f3bdfc40df98",
       "version_major": 2,
       "version_minor": 0
      },
      "text/html": [
       "<p>Failed to display Jupyter Widget of type <code>HBox</code>.</p>\n",
       "<p>\n",
       "  If you're reading this message in the Jupyter Notebook or JupyterLab Notebook, it may mean\n",
       "  that the widgets JavaScript is still loading. If this message persists, it\n",
       "  likely means that the widgets JavaScript library is either not installed or\n",
       "  not enabled. See the <a href=\"https://ipywidgets.readthedocs.io/en/stable/user_install.html\">Jupyter\n",
       "  Widgets Documentation</a> for setup instructions.\n",
       "</p>\n",
       "<p>\n",
       "  If you're reading this message in another frontend (for example, a static\n",
       "  rendering on GitHub or <a href=\"https://nbviewer.jupyter.org/\">NBViewer</a>),\n",
       "  it may mean that your frontend doesn't currently support widgets.\n",
       "</p>\n"
      ],
      "text/plain": [
       "HBox(children=(IntProgress(value=0, max=200), HTML(value=u'')))"
      ]
     },
     "metadata": {},
     "output_type": "display_data"
    },
    {
     "name": "stdout",
     "output_type": "stream",
     "text": [
      "loss: 0.009353797\n",
      "loss: 0.008486663\n",
      "loss: 0.0080826245\n",
      "loss: 0.007784985\n",
      "loss: 0.0075322744\n",
      "loss: 0.007304855\n",
      "loss: 0.0070960266\n",
      "loss: 0.0068984907\n",
      "loss: 0.006711627\n",
      "loss: 0.0065345457\n",
      "loss: 0.0063674403\n",
      "loss: 0.006210269\n",
      "loss: 0.006062428\n",
      "loss: 0.005925736\n",
      "loss: 0.005799474\n",
      "loss: 0.0056843027\n",
      "loss: 0.0055847694\n",
      "loss: 0.0054952702\n",
      "loss: 0.005415353\n",
      "loss: 0.0053467574\n",
      "\n",
      "('Save to path: ', '../models/beijing_10steps_1/save_net.ckpt')\n",
      "predicting the vs...\n"
     ]
    },
    {
     "data": {
      "application/vnd.jupyter.widget-view+json": {
       "model_id": "88c075824aeb4b81a7bc4855465761b2",
       "version_major": 2,
       "version_minor": 0
      },
      "text/html": [
       "<p>Failed to display Jupyter Widget of type <code>HBox</code>.</p>\n",
       "<p>\n",
       "  If you're reading this message in the Jupyter Notebook or JupyterLab Notebook, it may mean\n",
       "  that the widgets JavaScript is still loading. If this message persists, it\n",
       "  likely means that the widgets JavaScript library is either not installed or\n",
       "  not enabled. See the <a href=\"https://ipywidgets.readthedocs.io/en/stable/user_install.html\">Jupyter\n",
       "  Widgets Documentation</a> for setup instructions.\n",
       "</p>\n",
       "<p>\n",
       "  If you're reading this message in another frontend (for example, a static\n",
       "  rendering on GitHub or <a href=\"https://nbviewer.jupyter.org/\">NBViewer</a>),\n",
       "  it may mean that your frontend doesn't currently support widgets.\n",
       "</p>\n"
      ],
      "text/plain": [
       "HBox(children=(IntProgress(value=0, max=10000), HTML(value=u'')))"
      ]
     },
     "metadata": {},
     "output_type": "display_data"
    },
    {
     "name": "stdout",
     "output_type": "stream",
     "text": [
      "\n",
      "237.90050984035565\n",
      "0.757900754717\n"
     ]
    },
    {
     "data": {
      "image/png": "[encoded data removed]",
      "text/plain": [
       "<Figure size 1152x288 with 1 Axes>"
      ]
     },
     "metadata": {},
     "output_type": "display_data"
    }
   ],
   "source": [
    "# 参数  \n",
    "city = 'beijing'\n",
    "learning_rate = 0.001  #学习率 \n",
    "epochs = 200 #训练的周期  200\n",
    "display_step = 10\n",
    "car_id_batch_size = 10\n",
    "predict_steps = 10\n",
    "r_threshold = 200\n",
    "car_id_batch = int(10000 / car_id_batch_size)\n",
    "keep_prob = 1\n",
    "model_index = 1\n",
    "\n",
    "n_input= 30*2\n",
    "n_output= predict_steps*2\n",
    "model_name = city + '_' + str(predict_steps) + 'steps_' + str(model_index)\n",
    "\n",
    "import tensorflow as tf\n",
    "import numpy as np\n",
    "import os\n",
    "os.environ[\"CUDA_VISIBLE_DEVICES\"] = '0'\n",
    "import warnings\n",
    "warnings.filterwarnings('ignore')\n",
    "import pandas as pd\n",
    "from tqdm import tqdm_notebook as tqdm\n",
    "from sklearn.preprocessing import MinMaxScaler\n",
    "%pylab inline\n",
    "\n",
    "config = tf.ConfigProto()\n",
    "config.gpu_options.per_process_gpu_memory_fraction = 0.2\n",
    "config.gpu_options.allow_growth = True  # 设置tf模式为按需赠长模式\n",
    "\n",
    "\n",
    "from geopy.distance import great_circle\n",
    "\n",
    "def distance(true_x,true_y,predict_x,predict_y):\n",
    "    return great_circle((true_x,true_y),(predict_x,predict_y)).m\n",
    "\n",
    "# 向量化\n",
    "vec_distance = np.vectorize(distance)\n",
    "\n",
    "\n",
    "print (city+'***********************************************************************************************')\n",
    "\n",
    "cdf = pd.read_csv(\"../data/sample_train.txt\",index_col=0)\n",
    "ctdf = pd.read_csv(\"../data/sample_test.txt\",index_col=0)\n",
    "\n",
    "tmp_cdf = np.array([cdf.x,cdf.y]).T\n",
    "min_max_scaler = MinMaxScaler().fit(tmp_cdf)\n",
    "tmp_1 = min_max_scaler.transform(tmp_cdf)\n",
    "cdf['x'] = tmp_1[:,0]\n",
    "cdf['y'] = tmp_1[:,1]\n",
    "\n",
    "tmp_ctdf = np.array([ctdf.x,ctdf.y]).T\n",
    "tmp_2 = min_max_scaler.transform(tmp_ctdf)\n",
    "ctdf['x'] = tmp_2[:,0]\n",
    "ctdf['y'] = tmp_2[:,1]\n",
    "\n",
    "print 'data has been loaded'\n",
    "\n",
    "print 'creating graph...'\n",
    "\n",
    "inputs_ = tf.placeholder(\"float32\", [None, n_input])\n",
    "ys_ = tf.placeholder(\"float32\", shape = [None, n_output])  \n",
    "keep_prob_ = tf.placeholder(tf.float32,name = 'keep')\n",
    "learning_rate_ = tf.placeholder(tf.float32,name = 'learning_rate')\n",
    "\n",
    "layer_1 = tf.layers.dense(inputs=inputs_, units=128, activation=tf.nn.relu) \n",
    "layer_1 = tf.layers.dropout(inputs=layer_1, rate=1-keep_prob)\n",
    "\n",
    "layer_2 = tf.layers.dense(inputs=layer_1, units=128, activation=tf.nn.relu) \n",
    "layer_2 = tf.layers.dropout(inputs=layer_2, rate=1-keep_prob)\n",
    "\n",
    "logits = tf.layers.dense(inputs=layer_2, units=predict_steps*2)\n",
    "\n",
    "tmp = ys_ - logits\n",
    "tmp_1 = tf.strided_slice(tmp,[0,0],[(799 - 30 - predict_steps)*car_id_batch_size,predict_steps*2],[1,2])\n",
    "tmp_2 = tf.strided_slice(tmp,[0,1],[(799 - 30 - predict_steps)*car_id_batch_size,predict_steps*2],[1,2])\n",
    "\n",
    "loss = tf.reduce_mean(tf.sqrt(tf.square(tmp_1)+tf.square(tmp_2)))\n",
    "\n",
    "optimizer = tf.train.GradientDescentOptimizer(learning_rate).minimize(loss)\n",
    "\n",
    "print 'graph has been created'\n",
    "\n",
    "print 'initializing the session...'\n",
    "init = tf.global_variables_initializer()\n",
    "sess = tf.Session(config=config)\n",
    "sess.run(init)\n",
    "\n",
    "print 'training the model...'\n",
    "all_loss = []\n",
    "all_error = []\n",
    "all_acc = []\n",
    "\n",
    "for i in tqdm(range(epochs)):\n",
    "    losses = []\n",
    "    for car_id in range(car_id_batch):\n",
    "        fff = np.array([cdf.iloc[800*car_id:800*(car_id+car_id_batch_size)]['x'],\n",
    "                        cdf.iloc[800*car_id:800*(car_id+car_id_batch_size)]['y']]).T.reshape((car_id_batch_size,800,2))\n",
    "        batch_x = np.array([fff[:,start_point:start_point+30,:] for start_point in range(799 - 30 - predict_steps)])\\\n",
    "                  .reshape(((799 - 30 - predict_steps)*car_id_batch_size,30*2))\n",
    "        batch_y = np.array([fff[:,start_point:start_point+predict_steps,:] for start_point in range(29+1,799-predict_steps)])\\\n",
    "                  .reshape(((799 - 30 - predict_steps)*car_id_batch_size,predict_steps*2))\n",
    "        \n",
    "        sess.run(optimizer, feed_dict={inputs_: batch_x, ys_: batch_y, keep_prob_: keep_prob,learning_rate_:learning_rate})\n",
    "        losses.append(sess.run(loss,feed_dict={inputs_: batch_x, ys_: batch_y, keep_prob_: keep_prob,learning_rate_:learning_rate}))\n",
    "        \n",
    "# ========================================================\n",
    "#     predict_positions_tmp = []\n",
    "#     anwser_positions_tmp = []\n",
    "#     for car_id in range(10000):\n",
    "#         ttt = np.array([cdf.iloc[200*car_id:200*(car_id+1)]['x'],\n",
    "#                         cdf.iloc[200*car_id:200*(car_id+1)]['y']]).T.reshape((200,2))\n",
    "#         batch_x = np.array([ttt[start_point:start_point+30,:] for start_point in range(199 - 30 - predict_steps)])\\\n",
    "#                   .reshape((199 - 30 - predict_steps,30*2))\n",
    "#         batch_y = np.array([ttt[start_point:start_point+predict_steps,:] for start_point in range(29+1,199-predict_steps)])\\\n",
    "#                   .reshape((199 - 30 - predict_steps,predict_steps*2))\n",
    "#         predict_positions_tmp.append(sess.run(logits,feed_dict={inputs_: batch_x,keep_prob_:1.0}))\n",
    "#         anwser_positions_tmp.append(batch_y)\n",
    "\n",
    "#     predict_positions_tmp = np.array(predict_positions_tmp).reshape(10000*(199 - 30 - predict_steps)*predict_steps,2)\n",
    "#     anwser_positions_tmp = np.array(anwser_positions_tmp).reshape(10000*(199 - 30 - predict_steps)*predict_steps,2)\n",
    "\n",
    "#     # 还原经纬度，用于计算误差\n",
    "#     predict_positions_tmp = min_max_scaler.inverse_transform(predict_positions_tmp)\n",
    "#     anwser_positions_tmp = min_max_scaler.inverse_transform(anwser_positions_tmp)\n",
    "\n",
    "#     errors_tmp = vec_distance(predict_positions_tmp[:,0],predict_positions_tmp[:,1],anwser_positions_tmp[:,0],anwser_positions_tmp[:,1])\n",
    "#     mean_error_tmp = np.mean(errors_tmp)\n",
    "#     acc_tmp = len(errors_tmp[errors_tmp<=r_threshold]) * 1.0 / len(errors_tmp)\n",
    "#     all_error.append(mean_error_tmp)\n",
    "#     all_acc.append(acc_tmp)\n",
    "# =================================================================================\n",
    "    \n",
    "    all_loss.append(mean(losses))\n",
    "    if (i+1) % display_step == 0:\n",
    "        print 'loss:',all_loss[-1]\n",
    "\n",
    "saver = tf.train.Saver()\n",
    "save_path = saver.save(sess, \"../models/\"+model_name+\"/save_net.ckpt\")\n",
    "print(\"Save to path: \", save_path)\n",
    "\n",
    "\n",
    "# saver.restore(sess, \"../models/singapore_2_10_steps/save_net.ckpt\")\n",
    "\n",
    "print ('predicting the vs...')\n",
    "predict_positions = []\n",
    "anwser_positions = []\n",
    "for car_id in tqdm(range(10000)):\n",
    "    ttt = np.array([ctdf.iloc[200*car_id:200*(car_id+1)]['x'],\n",
    "                    ctdf.iloc[200*car_id:200*(car_id+1)]['y']]).T.reshape((200,2))\n",
    "    batch_x = np.array([ttt[start_point:start_point+30,:] for start_point in range(199 - 30 - predict_steps)])\\\n",
    "              .reshape((199 - 30 - predict_steps,30*2))\n",
    "    batch_y = np.array([ttt[start_point:start_point+predict_steps,:] for start_point in range(29+1,199-predict_steps)])\\\n",
    "              .reshape((199 - 30 - predict_steps,predict_steps*2))\n",
    "    predict_positions.append(sess.run(logits,feed_dict={inputs_: batch_x,keep_prob_:1.0}))\n",
    "    anwser_positions.append(batch_y)\n",
    "    \n",
    "predict_positions = np.array(predict_positions).reshape(10000*(199 - 30 - predict_steps)*predict_steps,2)\n",
    "anwser_positions = np.array(anwser_positions).reshape(10000*(199 - 30 - predict_steps)*predict_steps,2)\n",
    "\n",
    "# 还原经纬度，用于计算误差\n",
    "predict_positions = min_max_scaler.inverse_transform(predict_positions)\n",
    "anwser_positions = min_max_scaler.inverse_transform(anwser_positions)\n",
    "\n",
    "errors = vec_distance(predict_positions[:,0],predict_positions[:,1],anwser_positions[:,0],anwser_positions[:,1])\n",
    "mean_error = np.mean(errors)\n",
    "acc = len(errors[errors<=r_threshold]) * 1.0 / len(errors)\n",
    "print (mean_error)\n",
    "print (acc)\n",
    "\n",
    "f = figure(figsize=(16,4))\n",
    "plot(all_loss)\n",
    "# f = figure(figsize=(16,4))\n",
    "# plot(all_error)\n",
    "# f = figure(figsize=(16,4))\n",
    "# plot(all_acc)\n",
    "\n",
    "savez('../middata/'+model_name+'.npz', all_loss=all_loss, all_error=all_error, all_acc=all_acc)"
   ]
  },
  {
   "cell_type": "code",
   "execution_count": 2,
   "metadata": {
    "collapsed": true
   },
   "outputs": [],
   "source": [
    "mean_error = [mean_error]\n",
    "acc = [acc]\n",
    "\n",
    "savez('../middata/'+model_name+'.npz', \n",
    "      all_loss=all_loss, \n",
    "      all_error=all_error, \n",
    "      all_acc=all_acc,\n",
    "      mean_error=mean_error,acc=acc,\n",
    "      predict_positions=predict_positions)"
   ]
  }
 ],
 "metadata": {
  "kernelspec": {
   "display_name": "Python 2",
   "language": "python",
   "name": "python2"
  },
  "language_info": {
   "codemirror_mode": {
    "name": "ipython",
    "version": 2
   },
   "file_extension": ".py",
   "mimetype": "text/x-python",
   "name": "python",
   "nbconvert_exporter": "python",
   "pygments_lexer": "ipython2",
   "version": "2.7.14"
  },
  "nbTranslate": {
   "displayLangs": [
    "*"
   ],
   "hotkey": "alt-t",
   "langInMainMenu": true,
   "sourceLang": "en",
   "targetLang": "fr",
   "useGoogleTranslate": true
  },
  "toc": {
   "nav_menu": {},
   "number_sections": true,
   "sideBar": true,
   "skip_h1_title": false,
   "title_cell": "Table of Contents",
   "title_sidebar": "Contents",
   "toc_cell": false,
   "toc_position": {},
   "toc_section_display": true,
   "toc_window_display": false
  },
  "varInspector": {
   "cols": {
    "lenName": 16,
    "lenType": 16,
    "lenVar": 40
   },
   "kernels_config": {
    "python": {
     "delete_cmd_postfix": "",
     "delete_cmd_prefix": "del ",
     "library": "var_list.py",
     "varRefreshCmd": "print(var_dic_list())"
    },
    "r": {
     "delete_cmd_postfix": ") ",
     "delete_cmd_prefix": "rm(",
     "library": "var_list.r",
     "varRefreshCmd": "cat(var_dic_list()) "
    }
   },
   "types_to_exclude": [
    "module",
    "function",
    "builtin_function_or_method",
    "instance",
    "_Feature"
   ],
   "window_display": false
  }
 },
 "nbformat": 4,
 "nbformat_minor": 2
}

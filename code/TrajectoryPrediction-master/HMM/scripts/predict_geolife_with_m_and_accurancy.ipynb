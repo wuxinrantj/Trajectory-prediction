{
 "cells": [
  {
   "cell_type": "code",
   "execution_count": 1,
   "metadata": {
    "ExecuteTime": {
     "end_time": "2018-03-13T14:47:30.484458Z",
     "start_time": "2018-03-13T07:48:10.862337Z"
    }
   },
   "outputs": [
    {
     "name": "stdout",
     "output_type": "stream",
     "text": [
      "假·隐马尔可夫模型，测试集长度200\n",
      "1 step distance error\n"
     ]
    },
    {
     "data": {
      "application/vnd.jupyter.widget-view+json": {
       "model_id": "8a09ec24b30743b0a9a64c977ef0b64e",
       "version_major": 2,
       "version_minor": 0
      },
      "text/html": [
       "<p>Failed to display Jupyter Widget of type <code>HBox</code>.</p>\n",
       "<p>\n",
       "  If you're reading this message in the Jupyter Notebook or JupyterLab Notebook, it may mean\n",
       "  that the widgets JavaScript is still loading. If this message persists, it\n",
       "  likely means that the widgets JavaScript library is either not installed or\n",
       "  not enabled. See the <a href=\"https://ipywidgets.readthedocs.io/en/stable/user_install.html\">Jupyter\n",
       "  Widgets Documentation</a> for setup instructions.\n",
       "</p>\n",
       "<p>\n",
       "  If you're reading this message in another frontend (for example, a static\n",
       "  rendering on GitHub or <a href=\"https://nbviewer.jupyter.org/\">NBViewer</a>),\n",
       "  it may mean that your frontend doesn't currently support widgets.\n",
       "</p>\n"
      ],
      "text/plain": [
       "HBox(children=(IntProgress(value=0, max=150), HTML(value=u'')))"
      ]
     },
     "metadata": {},
     "output_type": "display_data"
    },
    {
     "name": "stdout",
     "output_type": "stream",
     "text": [
      "\n",
      "假·step=1 11.346097813101887 0.9989746666666668\n",
      "10 step distance error\n"
     ]
    },
    {
     "data": {
      "application/vnd.jupyter.widget-view+json": {
       "model_id": "227d1916eba14210b0c6e81b6e16e6de",
       "version_major": 2,
       "version_minor": 0
      },
      "text/html": [
       "<p>Failed to display Jupyter Widget of type <code>HBox</code>.</p>\n",
       "<p>\n",
       "  If you're reading this message in the Jupyter Notebook or JupyterLab Notebook, it may mean\n",
       "  that the widgets JavaScript is still loading. If this message persists, it\n",
       "  likely means that the widgets JavaScript library is either not installed or\n",
       "  not enabled. See the <a href=\"https://ipywidgets.readthedocs.io/en/stable/user_install.html\">Jupyter\n",
       "  Widgets Documentation</a> for setup instructions.\n",
       "</p>\n",
       "<p>\n",
       "  If you're reading this message in another frontend (for example, a static\n",
       "  rendering on GitHub or <a href=\"https://nbviewer.jupyter.org/\">NBViewer</a>),\n",
       "  it may mean that your frontend doesn't currently support widgets.\n",
       "</p>\n"
      ],
      "text/plain": [
       "HBox(children=(IntProgress(value=0, max=140), HTML(value=u'')))"
      ]
     },
     "metadata": {},
     "output_type": "display_data"
    },
    {
     "name": "stdout",
     "output_type": "stream",
     "text": [
      "\n",
      "假·step=10 55.961247360039245 0.9512861428571429\n",
      "20 step distance error\n"
     ]
    },
    {
     "data": {
      "application/vnd.jupyter.widget-view+json": {
       "model_id": "a1f0be7948a7490a9683c6c2cdbb8161",
       "version_major": 2,
       "version_minor": 0
      },
      "text/html": [
       "<p>Failed to display Jupyter Widget of type <code>HBox</code>.</p>\n",
       "<p>\n",
       "  If you're reading this message in the Jupyter Notebook or JupyterLab Notebook, it may mean\n",
       "  that the widgets JavaScript is still loading. If this message persists, it\n",
       "  likely means that the widgets JavaScript library is either not installed or\n",
       "  not enabled. See the <a href=\"https://ipywidgets.readthedocs.io/en/stable/user_install.html\">Jupyter\n",
       "  Widgets Documentation</a> for setup instructions.\n",
       "</p>\n",
       "<p>\n",
       "  If you're reading this message in another frontend (for example, a static\n",
       "  rendering on GitHub or <a href=\"https://nbviewer.jupyter.org/\">NBViewer</a>),\n",
       "  it may mean that your frontend doesn't currently support widgets.\n",
       "</p>\n"
      ],
      "text/plain": [
       "HBox(children=(IntProgress(value=0, max=130), HTML(value=u'')))"
      ]
     },
     "metadata": {},
     "output_type": "display_data"
    },
    {
     "name": "stdout",
     "output_type": "stream",
     "text": [
      "\n",
      "假·step=20 113.55990033479358 0.8486039615384616\n",
      "30 step distance error\n"
     ]
    },
    {
     "data": {
      "application/vnd.jupyter.widget-view+json": {
       "model_id": "482dcb6c6caf4e3f96d11e0653caab8b",
       "version_major": 2,
       "version_minor": 0
      },
      "text/html": [
       "<p>Failed to display Jupyter Widget of type <code>HBox</code>.</p>\n",
       "<p>\n",
       "  If you're reading this message in the Jupyter Notebook or JupyterLab Notebook, it may mean\n",
       "  that the widgets JavaScript is still loading. If this message persists, it\n",
       "  likely means that the widgets JavaScript library is either not installed or\n",
       "  not enabled. See the <a href=\"https://ipywidgets.readthedocs.io/en/stable/user_install.html\">Jupyter\n",
       "  Widgets Documentation</a> for setup instructions.\n",
       "</p>\n",
       "<p>\n",
       "  If you're reading this message in another frontend (for example, a static\n",
       "  rendering on GitHub or <a href=\"https://nbviewer.jupyter.org/\">NBViewer</a>),\n",
       "  it may mean that your frontend doesn't currently support widgets.\n",
       "</p>\n"
      ],
      "text/plain": [
       "HBox(children=(IntProgress(value=0, max=120), HTML(value=u'')))"
      ]
     },
     "metadata": {},
     "output_type": "display_data"
    },
    {
     "name": "stdout",
     "output_type": "stream",
     "text": [
      "\n",
      "假·step=30 172.84215201215991 0.7625125555555556\n",
      "40 step distance error\n"
     ]
    },
    {
     "data": {
      "application/vnd.jupyter.widget-view+json": {
       "model_id": "1cc6cf9d32f44b96a0cad8fcb6986718",
       "version_major": 2,
       "version_minor": 0
      },
      "text/html": [
       "<p>Failed to display Jupyter Widget of type <code>HBox</code>.</p>\n",
       "<p>\n",
       "  If you're reading this message in the Jupyter Notebook or JupyterLab Notebook, it may mean\n",
       "  that the widgets JavaScript is still loading. If this message persists, it\n",
       "  likely means that the widgets JavaScript library is either not installed or\n",
       "  not enabled. See the <a href=\"https://ipywidgets.readthedocs.io/en/stable/user_install.html\">Jupyter\n",
       "  Widgets Documentation</a> for setup instructions.\n",
       "</p>\n",
       "<p>\n",
       "  If you're reading this message in another frontend (for example, a static\n",
       "  rendering on GitHub or <a href=\"https://nbviewer.jupyter.org/\">NBViewer</a>),\n",
       "  it may mean that your frontend doesn't currently support widgets.\n",
       "</p>\n"
      ],
      "text/plain": [
       "HBox(children=(IntProgress(value=0, max=110), HTML(value=u'')))"
      ]
     },
     "metadata": {},
     "output_type": "display_data"
    },
    {
     "name": "stdout",
     "output_type": "stream",
     "text": [
      "\n",
      "假·step=40 233.31500944509756 0.6999706818181818\n",
      "50 step distance error\n"
     ]
    },
    {
     "data": {
      "application/vnd.jupyter.widget-view+json": {
       "model_id": "ee7af6c80cc44a36bec6c0d60be71c2d",
       "version_major": 2,
       "version_minor": 0
      },
      "text/html": [
       "<p>Failed to display Jupyter Widget of type <code>HBox</code>.</p>\n",
       "<p>\n",
       "  If you're reading this message in the Jupyter Notebook or JupyterLab Notebook, it may mean\n",
       "  that the widgets JavaScript is still loading. If this message persists, it\n",
       "  likely means that the widgets JavaScript library is either not installed or\n",
       "  not enabled. See the <a href=\"https://ipywidgets.readthedocs.io/en/stable/user_install.html\">Jupyter\n",
       "  Widgets Documentation</a> for setup instructions.\n",
       "</p>\n",
       "<p>\n",
       "  If you're reading this message in another frontend (for example, a static\n",
       "  rendering on GitHub or <a href=\"https://nbviewer.jupyter.org/\">NBViewer</a>),\n",
       "  it may mean that your frontend doesn't currently support widgets.\n",
       "</p>\n"
      ],
      "text/plain": [
       "HBox(children=(IntProgress(value=0), HTML(value=u'')))"
      ]
     },
     "metadata": {},
     "output_type": "display_data"
    },
    {
     "name": "stdout",
     "output_type": "stream",
     "text": [
      "\n",
      "假·step=50 294.3602525556027 0.65260362\n"
     ]
    }
   ],
   "source": [
    "from tqdm import tqdm_notebook as tqdm\n",
    "import pandas as pd\n",
    "from numpy import *\n",
    "from funcs import *\n",
    "from pandas import Series,DataFrame\n",
    "import pandas as pd\n",
    "import numpy as np\n",
    "from sklearn.externals import joblib\n",
    "from hmmlearn import hmm\n",
    "import warnings\n",
    "warnings.filterwarnings('ignore')\n",
    "%run funcs_with_m_and_accurancy.py\n",
    "\n",
    "model_geolife_tongyi_300_iter_v_1m15d = joblib.load('../models/model_geolife_tongyi_300_iter_v_1m15d.pkl')\n",
    "\n",
    "cdf = pd.read_csv('/home/liheyuan/Jupyter/trajectory_prediction/trajectory_prediction_1/HMM/hmm4/middata/geolife_tongyi_cdf1.csv',index_col=0)\n",
    "ctdf = pd.read_csv('/home/liheyuan/Jupyter/trajectory_prediction/trajectory_prediction_1/HMM/hmm4/middata/geolife_tongyi_ctdf1.csv',index_col=0)\n",
    "\n",
    "\n",
    "state_to_v = state_mean_v(model_geolife_tongyi_300_iter_v_1m15d,cdf)\n",
    "\n",
    "# 假·隐马尔可夫模型-----------------------------------------------------------------------------------------\n",
    "# 预测一次，后面等距\n",
    "\n",
    "print '假·隐马尔可夫模型，测试集长度200'\n",
    "\n",
    "print '1 step distance error'\n",
    "errors = []\n",
    "accs = []\n",
    "for timestamp in tqdm(range(29,179)):\n",
    "    tmp_list = over_error_200(model_geolife_tongyi_300_iter_v_1m15d,cdf,ctdf,last_point_num=timestamp,steps=1,r=200)\n",
    "    errors.append(tmp_list[0])\n",
    "    accs.append(tmp_list[1])\n",
    "print '假·step=1',mean(errors),mean(accs)\n",
    "\n",
    "\n",
    "print '10 step distance error'\n",
    "errors = []\n",
    "accs = []\n",
    "for timestamp in tqdm(range(29,169)):\n",
    "    tmp_list = over_error_200(model_geolife_tongyi_300_iter_v_1m15d,cdf,ctdf,last_point_num=timestamp,steps=10,r=200)\n",
    "    errors.append(tmp_list[0])\n",
    "    accs.append(tmp_list[1])\n",
    "print '假·step=10',mean(errors),mean(accs)\n",
    "\n",
    "\n",
    "print '20 step distance error'\n",
    "errors = []\n",
    "accs = []\n",
    "for timestamp in tqdm(range(29,159)):\n",
    "    tmp_list = over_error_200(model_geolife_tongyi_300_iter_v_1m15d,cdf,ctdf,last_point_num=timestamp,steps=20,r=200)\n",
    "    errors.append(tmp_list[0])\n",
    "    accs.append(tmp_list[1])\n",
    "print '假·step=20',mean(errors),mean(accs)\n",
    "\n",
    "\n",
    "print '30 step distance error'\n",
    "errors = []\n",
    "accs = []\n",
    "for timestamp in tqdm(range(29,149)):\n",
    "    tmp_list = over_error_200(model_geolife_tongyi_300_iter_v_1m15d,cdf,ctdf,last_point_num=timestamp,steps=30,r=200)\n",
    "    errors.append(tmp_list[0])\n",
    "    accs.append(tmp_list[1])\n",
    "print '假·step=30',mean(errors),mean(accs)\n",
    "\n",
    "print '40 step distance error'\n",
    "errors = []\n",
    "accs = []\n",
    "for timestamp in tqdm(range(29,139)):\n",
    "    tmp_list = over_error_200(model_geolife_tongyi_300_iter_v_1m15d,cdf,ctdf,last_point_num=timestamp,steps=40,r=200)\n",
    "    errors.append(tmp_list[0])\n",
    "    accs.append(tmp_list[1])\n",
    "print '假·step=40',mean(errors),mean(accs)\n",
    "\n",
    "\n",
    "print '50 step distance error'\n",
    "errors = []\n",
    "accs = []\n",
    "for timestamp in tqdm(range(29,129)):\n",
    "    tmp_list = over_error_200(model_geolife_tongyi_300_iter_v_1m15d,cdf,ctdf,last_point_num=timestamp,steps=50,r=200)\n",
    "    errors.append(tmp_list[0])\n",
    "    accs.append(tmp_list[1])\n",
    "print '假·step=50',mean(errors),mean(accs)"
   ]
  }
 ],
 "metadata": {
  "kernelspec": {
   "display_name": "Python 2",
   "language": "python",
   "name": "python2"
  },
  "language_info": {
   "codemirror_mode": {
    "name": "ipython",
    "version": 2
   },
   "file_extension": ".py",
   "mimetype": "text/x-python",
   "name": "python",
   "nbconvert_exporter": "python",
   "pygments_lexer": "ipython2",
   "version": "2.7.12"
  },
  "nbTranslate": {
   "displayLangs": [
    "*"
   ],
   "hotkey": "alt-t",
   "langInMainMenu": true,
   "sourceLang": "en",
   "targetLang": "fr",
   "useGoogleTranslate": true
  },
  "toc": {
   "nav_menu": {},
   "number_sections": true,
   "sideBar": true,
   "skip_h1_title": true,
   "toc_cell": false,
   "toc_position": {},
   "toc_section_display": "block",
   "toc_window_display": false
  },
  "varInspector": {
   "cols": {
    "lenName": 16,
    "lenType": 16,
    "lenVar": 40
   },
   "kernels_config": {
    "python": {
     "delete_cmd_postfix": "",
     "delete_cmd_prefix": "del ",
     "library": "var_list.py",
     "varRefreshCmd": "print(var_dic_list())"
    },
    "r": {
     "delete_cmd_postfix": ") ",
     "delete_cmd_prefix": "rm(",
     "library": "var_list.r",
     "varRefreshCmd": "cat(var_dic_list()) "
    }
   },
   "types_to_exclude": [
    "module",
    "function",
    "builtin_function_or_method",
    "instance",
    "_Feature"
   ],
   "window_display": false
  }
 },
 "nbformat": 4,
 "nbformat_minor": 2
}

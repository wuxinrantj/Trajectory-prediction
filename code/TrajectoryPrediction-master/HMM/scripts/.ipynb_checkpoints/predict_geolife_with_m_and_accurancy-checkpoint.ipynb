{
 "cells": [
  {
   "cell_type": "code",
   "execution_count": 1,
   "metadata": {
    "ExecuteTime": {
     "end_time": "2018-03-13T07:34:06.730147Z",
     "start_time": "2018-03-13T07:33:44.435420Z"
    }
   },
   "outputs": [
    {
     "ename": "KeyboardInterrupt",
     "evalue": "",
     "output_type": "error",
     "traceback": [
      "\u001b[0;31m\u001b[0m",
      "\u001b[0;31mKeyboardInterrupt\u001b[0mTraceback (most recent call last)",
      "\u001b[0;32m<ipython-input-1-c52a23aaf045>\u001b[0m in \u001b[0;36m<module>\u001b[0;34m()\u001b[0m\n\u001b[1;32m     18\u001b[0m \u001b[0;34m\u001b[0m\u001b[0m\n\u001b[1;32m     19\u001b[0m \u001b[0;34m\u001b[0m\u001b[0m\n\u001b[0;32m---> 20\u001b[0;31m \u001b[0mstate_to_v\u001b[0m \u001b[0;34m=\u001b[0m \u001b[0mstate_mean_v\u001b[0m\u001b[0;34m(\u001b[0m\u001b[0mmodel_beijing_tongyi_300_iter_v_1m15d\u001b[0m\u001b[0;34m,\u001b[0m\u001b[0mcdf\u001b[0m\u001b[0;34m)\u001b[0m\u001b[0;34m\u001b[0m\u001b[0m\n\u001b[0m\u001b[1;32m     21\u001b[0m \u001b[0;34m\u001b[0m\u001b[0m\n\u001b[1;32m     22\u001b[0m \u001b[0;31m# 假·隐马尔可夫模型-----------------------------------------------------------------------------------------\u001b[0m\u001b[0;34m\u001b[0m\u001b[0;34m\u001b[0m\u001b[0m\n",
      "\u001b[0;32m/mnt/data1/liheyuan/trajectory_prediction/trajectory_prediction_1/HMM/hmm4/scripts/funcs.py\u001b[0m in \u001b[0;36mstate_mean_v\u001b[0;34m(model, train_df)\u001b[0m\n\u001b[1;32m    295\u001b[0m     \u001b[0;31m# 指定用于训练和预测的列\u001b[0m\u001b[0;34m\u001b[0m\u001b[0;34m\u001b[0m\u001b[0m\n\u001b[1;32m    296\u001b[0m     \u001b[0mtrain_v\u001b[0m \u001b[0;34m=\u001b[0m \u001b[0marray\u001b[0m\u001b[0;34m(\u001b[0m\u001b[0mtrain_df\u001b[0m\u001b[0;34m[\u001b[0m\u001b[0;34m'v'\u001b[0m\u001b[0;34m]\u001b[0m\u001b[0;34m)\u001b[0m\u001b[0;34m.\u001b[0m\u001b[0mreshape\u001b[0m\u001b[0;34m(\u001b[0m\u001b[0;34m-\u001b[0m\u001b[0;36m1\u001b[0m\u001b[0;34m,\u001b[0m\u001b[0;36m1\u001b[0m\u001b[0;34m)\u001b[0m\u001b[0;34m\u001b[0m\u001b[0m\n\u001b[0;32m--> 297\u001b[0;31m     \u001b[0mZ\u001b[0m \u001b[0;34m=\u001b[0m \u001b[0mmodel\u001b[0m\u001b[0;34m.\u001b[0m\u001b[0mdecode\u001b[0m\u001b[0;34m(\u001b[0m\u001b[0mtrain_v\u001b[0m\u001b[0;34m)\u001b[0m\u001b[0;34m\u001b[0m\u001b[0m\n\u001b[0m\u001b[1;32m    298\u001b[0m     \u001b[0mtrain_df\u001b[0m\u001b[0;34m[\u001b[0m\u001b[0;34m'label'\u001b[0m\u001b[0;34m]\u001b[0m \u001b[0;34m=\u001b[0m \u001b[0mDataFrame\u001b[0m\u001b[0;34m(\u001b[0m\u001b[0mZ\u001b[0m\u001b[0;34m[\u001b[0m\u001b[0;36m1\u001b[0m\u001b[0;34m]\u001b[0m\u001b[0;34m)\u001b[0m\u001b[0;34m.\u001b[0m\u001b[0mset_index\u001b[0m\u001b[0;34m(\u001b[0m\u001b[0mtrain_df\u001b[0m\u001b[0;34m.\u001b[0m\u001b[0mindex\u001b[0m\u001b[0;34m)\u001b[0m\u001b[0;34m\u001b[0m\u001b[0m\n\u001b[1;32m    299\u001b[0m \u001b[0;34m\u001b[0m\u001b[0m\n",
      "\u001b[0;32m/home/liheyuan/ENV/local/lib/python2.7/site-packages/hmmlearn/base.pyc\u001b[0m in \u001b[0;36mdecode\u001b[0;34m(self, X, lengths, algorithm)\u001b[0m\n\u001b[1;32m    309\u001b[0m         \u001b[0;32mfor\u001b[0m \u001b[0mi\u001b[0m\u001b[0;34m,\u001b[0m \u001b[0mj\u001b[0m \u001b[0;32min\u001b[0m \u001b[0miter_from_X_lengths\u001b[0m\u001b[0;34m(\u001b[0m\u001b[0mX\u001b[0m\u001b[0;34m,\u001b[0m \u001b[0mlengths\u001b[0m\u001b[0;34m)\u001b[0m\u001b[0;34m:\u001b[0m\u001b[0;34m\u001b[0m\u001b[0m\n\u001b[1;32m    310\u001b[0m             \u001b[0;31m# XXX decoder works on a single sample at a time!\u001b[0m\u001b[0;34m\u001b[0m\u001b[0;34m\u001b[0m\u001b[0m\n\u001b[0;32m--> 311\u001b[0;31m             \u001b[0mlogprobij\u001b[0m\u001b[0;34m,\u001b[0m \u001b[0mstate_sequenceij\u001b[0m \u001b[0;34m=\u001b[0m \u001b[0mdecoder\u001b[0m\u001b[0;34m(\u001b[0m\u001b[0mX\u001b[0m\u001b[0;34m[\u001b[0m\u001b[0mi\u001b[0m\u001b[0;34m:\u001b[0m\u001b[0mj\u001b[0m\u001b[0;34m]\u001b[0m\u001b[0;34m)\u001b[0m\u001b[0;34m\u001b[0m\u001b[0m\n\u001b[0m\u001b[1;32m    312\u001b[0m             \u001b[0mlogprob\u001b[0m \u001b[0;34m+=\u001b[0m \u001b[0mlogprobij\u001b[0m\u001b[0;34m\u001b[0m\u001b[0m\n\u001b[1;32m    313\u001b[0m             \u001b[0mstate_sequence\u001b[0m\u001b[0;34m[\u001b[0m\u001b[0mi\u001b[0m\u001b[0;34m:\u001b[0m\u001b[0mj\u001b[0m\u001b[0;34m]\u001b[0m \u001b[0;34m=\u001b[0m \u001b[0mstate_sequenceij\u001b[0m\u001b[0;34m\u001b[0m\u001b[0m\n",
      "\u001b[0;32m/home/liheyuan/ENV/local/lib/python2.7/site-packages/hmmlearn/base.pyc\u001b[0m in \u001b[0;36m_decode_viterbi\u001b[0;34m(self, X)\u001b[0m\n\u001b[1;32m    252\u001b[0m     \u001b[0;32mdef\u001b[0m \u001b[0m_decode_viterbi\u001b[0m\u001b[0;34m(\u001b[0m\u001b[0mself\u001b[0m\u001b[0;34m,\u001b[0m \u001b[0mX\u001b[0m\u001b[0;34m)\u001b[0m\u001b[0;34m:\u001b[0m\u001b[0;34m\u001b[0m\u001b[0m\n\u001b[1;32m    253\u001b[0m         \u001b[0mframelogprob\u001b[0m \u001b[0;34m=\u001b[0m \u001b[0mself\u001b[0m\u001b[0;34m.\u001b[0m\u001b[0m_compute_log_likelihood\u001b[0m\u001b[0;34m(\u001b[0m\u001b[0mX\u001b[0m\u001b[0;34m)\u001b[0m\u001b[0;34m\u001b[0m\u001b[0m\n\u001b[0;32m--> 254\u001b[0;31m         \u001b[0;32mreturn\u001b[0m \u001b[0mself\u001b[0m\u001b[0;34m.\u001b[0m\u001b[0m_do_viterbi_pass\u001b[0m\u001b[0;34m(\u001b[0m\u001b[0mframelogprob\u001b[0m\u001b[0;34m)\u001b[0m\u001b[0;34m\u001b[0m\u001b[0m\n\u001b[0m\u001b[1;32m    255\u001b[0m \u001b[0;34m\u001b[0m\u001b[0m\n\u001b[1;32m    256\u001b[0m     \u001b[0;32mdef\u001b[0m \u001b[0m_decode_map\u001b[0m\u001b[0;34m(\u001b[0m\u001b[0mself\u001b[0m\u001b[0;34m,\u001b[0m \u001b[0mX\u001b[0m\u001b[0;34m)\u001b[0m\u001b[0;34m:\u001b[0m\u001b[0;34m\u001b[0m\u001b[0m\n",
      "\u001b[0;32m/home/liheyuan/ENV/local/lib/python2.7/site-packages/hmmlearn/base.pyc\u001b[0m in \u001b[0;36m_do_viterbi_pass\u001b[0;34m(self, framelogprob)\u001b[0m\n\u001b[1;32m    450\u001b[0m         state_sequence, logprob = _hmmc._viterbi(\n\u001b[1;32m    451\u001b[0m             \u001b[0mn_samples\u001b[0m\u001b[0;34m,\u001b[0m \u001b[0mn_components\u001b[0m\u001b[0;34m,\u001b[0m \u001b[0mnp\u001b[0m\u001b[0;34m.\u001b[0m\u001b[0mlog\u001b[0m\u001b[0;34m(\u001b[0m\u001b[0mself\u001b[0m\u001b[0;34m.\u001b[0m\u001b[0mstartprob_\u001b[0m\u001b[0;34m)\u001b[0m\u001b[0;34m,\u001b[0m\u001b[0;34m\u001b[0m\u001b[0m\n\u001b[0;32m--> 452\u001b[0;31m             np.log(self.transmat_), framelogprob)\n\u001b[0m\u001b[1;32m    453\u001b[0m         \u001b[0;32mreturn\u001b[0m \u001b[0mlogprob\u001b[0m\u001b[0;34m,\u001b[0m \u001b[0mstate_sequence\u001b[0m\u001b[0;34m\u001b[0m\u001b[0m\n\u001b[1;32m    454\u001b[0m \u001b[0;34m\u001b[0m\u001b[0m\n",
      "\u001b[0;32mhmmlearn/_hmmc.pyx\u001b[0m in \u001b[0;36mhmmlearn._hmmc._viterbi (hmmlearn/_hmmc.c:3251)\u001b[0;34m()\u001b[0m\n",
      "\u001b[0;32m/home/liheyuan/ENV/local/lib/python2.7/site-packages/numpy/core/numeric.pyc\u001b[0m in \u001b[0;36masarray\u001b[0;34m(a, dtype, order)\u001b[0m\n\u001b[1;32m    422\u001b[0m \u001b[0;34m\u001b[0m\u001b[0m\n\u001b[1;32m    423\u001b[0m \u001b[0;34m\u001b[0m\u001b[0m\n\u001b[0;32m--> 424\u001b[0;31m \u001b[0;32mdef\u001b[0m \u001b[0masarray\u001b[0m\u001b[0;34m(\u001b[0m\u001b[0ma\u001b[0m\u001b[0;34m,\u001b[0m \u001b[0mdtype\u001b[0m\u001b[0;34m=\u001b[0m\u001b[0mNone\u001b[0m\u001b[0;34m,\u001b[0m \u001b[0morder\u001b[0m\u001b[0;34m=\u001b[0m\u001b[0mNone\u001b[0m\u001b[0;34m)\u001b[0m\u001b[0;34m:\u001b[0m\u001b[0;34m\u001b[0m\u001b[0m\n\u001b[0m\u001b[1;32m    425\u001b[0m     \"\"\"Convert the input to an array.\n\u001b[1;32m    426\u001b[0m \u001b[0;34m\u001b[0m\u001b[0m\n",
      "\u001b[0;31mKeyboardInterrupt\u001b[0m: "
     ]
    }
   ],
   "source": [
    "from tqdm import tqdm_notebook as tqdm\n",
    "import pandas as pd\n",
    "from numpy import *\n",
    "from funcs import *\n",
    "from pandas import Series,DataFrame\n",
    "import pandas as pd\n",
    "import numpy as np\n",
    "from sklearn.externals import joblib\n",
    "from hmmlearn import hmm\n",
    "import warnings\n",
    "warnings.filterwarnings('ignore')\n",
    "%run funcs_with_m_and_accurancy.py\n",
    "\n",
    "model_beijing_tongyi_300_iter_v_1m15d = joblib.load('../models/model_beijing_tongyi_300_iter_v_1m15d.pkl')\n",
    "\n",
    "cdf = pd.read_csv('/home/liheyuan/Jupyter/trajectory_prediction/trajectory_prediction_1/HMM/hmm4/middata/beijing_tongyi_cdf1.csv',index_col=0)\n",
    "ctdf = pd.read_csv('/home/liheyuan/Jupyter/trajectory_prediction/trajectory_prediction_1/HMM/hmm4/middata/beijing_tongyi_ctdf1.csv',index_col=0)\n",
    "\n",
    "\n",
    "state_to_v = state_mean_v(model_beijing_tongyi_300_iter_v_1m15d,cdf)\n",
    "\n",
    "# 假·隐马尔可夫模型-----------------------------------------------------------------------------------------\n",
    "# 预测一次，后面等距\n",
    "\n",
    "print '假·隐马尔可夫模型，测试集长度200'\n",
    "\n",
    "print '1 step distance error'\n",
    "errors = []\n",
    "accs = []\n",
    "for timestamp in tqdm(range(29,179)):\n",
    "    tmp_list = over_error_200(model_beijing_tongyi_300_iter_v_1m15d,cdf,ctdf,last_point_num=timestamp,steps=1,r=200)\n",
    "    errors.append(tmp_list[0])\n",
    "    accs.append(tmp_list[1])\n",
    "print '假·step=1',mean(errors),mean(accs)\n",
    "\n",
    "\n",
    "print '10 step distance error'\n",
    "errors = []\n",
    "accs = []\n",
    "for timestamp in tqdm(range(29,169)):\n",
    "    tmp_list = over_error_200(model_beijing_tongyi_300_iter_v_1m15d,cdf,ctdf,last_point_num=timestamp,steps=10,r=200)\n",
    "    errors.append(tmp_list[0])\n",
    "    accs.append(tmp_list[1])\n",
    "print '假·step=10',mean(errors),mean(accs)\n",
    "\n",
    "\n",
    "print '20 step distance error'\n",
    "errors = []\n",
    "accs = []\n",
    "for timestamp in tqdm(range(29,159)):\n",
    "    tmp_list = over_error_200(model_beijing_tongyi_300_iter_v_1m15d,cdf,ctdf,last_point_num=timestamp,steps=20,r=200)\n",
    "    errors.append(tmp_list[0])\n",
    "    accs.append(tmp_list[1])\n",
    "print '假·step=20',mean(errors),mean(accs)\n",
    "\n",
    "\n",
    "print '30 step distance error'\n",
    "errors = []\n",
    "accs = []\n",
    "for timestamp in tqdm(range(29,149)):\n",
    "    tmp_list = over_error_200(model_beijing_tongyi_300_iter_v_1m15d,cdf,ctdf,last_point_num=timestamp,steps=30,r=200)\n",
    "    errors.append(tmp_list[0])\n",
    "    accs.append(tmp_list[1])\n",
    "print '假·step=30',mean(errors),mean(accs)\n",
    "\n",
    "print '40 step distance error'\n",
    "errors = []\n",
    "accs = []\n",
    "for timestamp in tqdm(range(29,139)):\n",
    "    tmp_list = over_error_200(model_beijing_tongyi_300_iter_v_1m15d,cdf,ctdf,last_point_num=timestamp,steps=40,r=200)\n",
    "    errors.append(tmp_list[0])\n",
    "    accs.append(tmp_list[1])\n",
    "print '假·step=40',mean(errors),mean(accs)\n",
    "\n",
    "\n",
    "print '50 step distance error'\n",
    "errors = []\n",
    "accs = []\n",
    "for timestamp in tqdm(range(29,129)):\n",
    "    tmp_list = over_error_200(model_beijing_tongyi_300_iter_v_1m15d,cdf,ctdf,last_point_num=timestamp,steps=50,r=200)\n",
    "    errors.append(tmp_list[0])\n",
    "    accs.append(tmp_list[1])\n",
    "print '假·step=50',mean(errors),mean(accs)"
   ]
  },
  {
   "cell_type": "code",
   "execution_count": null,
   "metadata": {
    "ExecuteTime": {
     "start_time": "2018-03-13T07:36:21.501Z"
    }
   },
   "outputs": [
    {
     "name": "stdout",
     "output_type": "stream",
     "text": [
      "假·隐马尔可夫模型，测试集长度200\n",
      "1 step distance error\n"
     ]
    },
    {
     "data": {
      "application/vnd.jupyter.widget-view+json": {
       "model_id": "43c5bdecb1ac45dba0bf143ca82928d4",
       "version_major": 2,
       "version_minor": 0
      },
      "text/html": [
       "<p>Failed to display Jupyter Widget of type <code>HBox</code>.</p>\n",
       "<p>\n",
       "  If you're reading this message in the Jupyter Notebook or JupyterLab Notebook, it may mean\n",
       "  that the widgets JavaScript is still loading. If this message persists, it\n",
       "  likely means that the widgets JavaScript library is either not installed or\n",
       "  not enabled. See the <a href=\"https://ipywidgets.readthedocs.io/en/stable/user_install.html\">Jupyter\n",
       "  Widgets Documentation</a> for setup instructions.\n",
       "</p>\n",
       "<p>\n",
       "  If you're reading this message in another frontend (for example, a static\n",
       "  rendering on GitHub or <a href=\"https://nbviewer.jupyter.org/\">NBViewer</a>),\n",
       "  it may mean that your frontend doesn't currently support widgets.\n",
       "</p>\n"
      ],
      "text/plain": [
       "HBox(children=(IntProgress(value=0, max=2), HTML(value=u'')))"
      ]
     },
     "metadata": {},
     "output_type": "display_data"
    }
   ],
   "source": [
    "from tqdm import tqdm_notebook as tqdm\n",
    "import pandas as pd\n",
    "from numpy import *\n",
    "from funcs import *\n",
    "from pandas import Series,DataFrame\n",
    "import pandas as pd\n",
    "import numpy as np\n",
    "from sklearn.externals import joblib\n",
    "from hmmlearn import hmm\n",
    "import warnings\n",
    "warnings.filterwarnings('ignore')\n",
    "%run funcs_with_m_and_accurancy.py\n",
    "\n",
    "model_beijing_tongyi_300_iter_v_1m15d = joblib.load('../models/model_beijing_tongyi_300_iter_v_1m15d.pkl')\n",
    "\n",
    "cdf = pd.read_csv('/home/liheyuan/Jupyter/trajectory_prediction/trajectory_prediction_1/HMM/hmm4/middata/beijing_tongyi_cdf1.csv',index_col=0)\n",
    "ctdf = pd.read_csv('/home/liheyuan/Jupyter/trajectory_prediction/trajectory_prediction_1/HMM/hmm4/middata/beijing_tongyi_ctdf1.csv',index_col=0)\n",
    "\n",
    "\n",
    "state_to_v = state_mean_v(model_beijing_tongyi_300_iter_v_1m15d,cdf)\n",
    "\n",
    "# 假·隐马尔可夫模型-----------------------------------------------------------------------------------------\n",
    "# 预测一次，后面等距\n",
    "\n",
    "print '假·隐马尔可夫模型，测试集长度200'\n",
    "\n",
    "print '1 step distance error'\n",
    "errors = []\n",
    "accs = []\n",
    "for timestamp in tqdm(range(29,31)):\n",
    "    tmp_list = over_error_200(model_beijing_tongyi_300_iter_v_1m15d,cdf,ctdf,last_point_num=timestamp,steps=1,r=200)\n",
    "    errors.append(tmp_list[0])\n",
    "    accs.append(tmp_list[1])\n",
    "print '假·step=1',mean(errors),mean(accs)\n",
    "\n",
    "\n",
    "print '10 step distance error'\n",
    "errors = []\n",
    "accs = []\n",
    "for timestamp in tqdm(range(29,31)):\n",
    "    tmp_list = over_error_200(model_beijing_tongyi_300_iter_v_1m15d,cdf,ctdf,last_point_num=timestamp,steps=10,r=200)\n",
    "    errors.append(tmp_list[0])\n",
    "    accs.append(tmp_list[1])\n",
    "print '假·step=10',mean(errors),mean(accs)\n",
    "\n",
    "\n",
    "print '20 step distance error'\n",
    "errors = []\n",
    "accs = []\n",
    "for timestamp in tqdm(range(29,31)):\n",
    "    tmp_list = over_error_200(model_beijing_tongyi_300_iter_v_1m15d,cdf,ctdf,last_point_num=timestamp,steps=20,r=200)\n",
    "    errors.append(tmp_list[0])\n",
    "    accs.append(tmp_list[1])\n",
    "print '假·step=20',mean(errors),mean(accs)\n",
    "\n",
    "\n",
    "print '30 step distance error'\n",
    "errors = []\n",
    "accs = []\n",
    "for timestamp in tqdm(range(29,31)):\n",
    "    tmp_list = over_error_200(model_beijing_tongyi_300_iter_v_1m15d,cdf,ctdf,last_point_num=timestamp,steps=30,r=200)\n",
    "    errors.append(tmp_list[0])\n",
    "    accs.append(tmp_list[1])\n",
    "print '假·step=30',mean(errors),mean(accs)\n",
    "\n",
    "print '40 step distance error'\n",
    "errors = []\n",
    "accs = []\n",
    "for timestamp in tqdm(range(29,31)):\n",
    "    tmp_list = over_error_200(model_beijing_tongyi_300_iter_v_1m15d,cdf,ctdf,last_point_num=timestamp,steps=40,r=200)\n",
    "    errors.append(tmp_list[0])\n",
    "    accs.append(tmp_list[1])\n",
    "print '假·step=40',mean(errors),mean(accs)\n",
    "\n",
    "\n",
    "print '50 step distance error'\n",
    "errors = []\n",
    "accs = []\n",
    "for timestamp in tqdm(range(29,31)):\n",
    "    tmp_list = over_error_200(model_beijing_tongyi_300_iter_v_1m15d,cdf,ctdf,last_point_num=timestamp,steps=50,r=200)\n",
    "    errors.append(tmp_list[0])\n",
    "    accs.append(tmp_list[1])\n",
    "print '假·step=50',mean(errors),mean(accs)"
   ]
  }
 ],
 "metadata": {
  "kernelspec": {
   "display_name": "Python 2",
   "language": "python",
   "name": "python2"
  },
  "language_info": {
   "codemirror_mode": {
    "name": "ipython",
    "version": 2
   },
   "file_extension": ".py",
   "mimetype": "text/x-python",
   "name": "python",
   "nbconvert_exporter": "python",
   "pygments_lexer": "ipython2",
   "version": "2.7.12"
  },
  "nbTranslate": {
   "displayLangs": [
    "*"
   ],
   "hotkey": "alt-t",
   "langInMainMenu": true,
   "sourceLang": "en",
   "targetLang": "fr",
   "useGoogleTranslate": true
  },
  "toc": {
   "nav_menu": {},
   "number_sections": true,
   "sideBar": true,
   "skip_h1_title": true,
   "toc_cell": false,
   "toc_position": {},
   "toc_section_display": "block",
   "toc_window_display": false
  },
  "varInspector": {
   "cols": {
    "lenName": 16,
    "lenType": 16,
    "lenVar": 40
   },
   "kernels_config": {
    "python": {
     "delete_cmd_postfix": "",
     "delete_cmd_prefix": "del ",
     "library": "var_list.py",
     "varRefreshCmd": "print(var_dic_list())"
    },
    "r": {
     "delete_cmd_postfix": ") ",
     "delete_cmd_prefix": "rm(",
     "library": "var_list.r",
     "varRefreshCmd": "cat(var_dic_list()) "
    }
   },
   "types_to_exclude": [
    "module",
    "function",
    "builtin_function_or_method",
    "instance",
    "_Feature"
   ],
   "window_display": false
  }
 },
 "nbformat": 4,
 "nbformat_minor": 2
}

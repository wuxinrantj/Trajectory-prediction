{
 "cells": [
  {
   "cell_type": "code",
   "execution_count": null,
   "metadata": {},
   "outputs": [
    {
     "name": "stdout",
     "output_type": "stream",
     "text": [
      "loading train_set...\n",
      "transforming lon and lat to x and y...\n",
      "computing v and u...\n",
      "fixing the error number...\n",
      "df has been output\n",
      "cdf has been ouput\n",
      "loading test_set...\n",
      "transforming lon and lat to x and y...\n",
      "computing v and u...\n",
      "fixing the error number...\n",
      "tdf has been output\n",
      "ctdf has been ouput\n",
      "data_pretreatment has been done\n"
     ]
    }
   ],
   "source": [
    "import pandas as pd\n",
    "from numpy import *\n",
    "from funcs import *\n",
    "from pandas import Series,DataFrame\n",
    "import pandas as pd\n",
    "import numpy as np\n",
    "from sklearn.externals import joblib\n",
    "from hmmlearn import hmm\n",
    "import warnings\n",
    "warnings.filterwarnings('ignore')\n",
    "\n",
    "##########################################################对训练集进行数据预处理####################################################\n",
    "print 'loading train_set...'\n",
    "# train_set = loadtxt('testdata.txt')\n",
    "train_set1 = loadtxt('../data/sample_train.txt')\n",
    "df = train_set_to_df(train_set1)\n",
    "\n",
    "# 经纬度转换为坐标-----------------------------------------------------------------------------------------------------------\n",
    "print 'transforming lon and lat to x and y...'\n",
    "tmpx = []\n",
    "tmpy = []\n",
    "for point in df.itertuples():\n",
    "    tmpx.append(point[3])\n",
    "    tmpy.append(point[2])\n",
    "\n",
    "df['x'] = tmpx\n",
    "df['y'] = tmpy\n",
    "\n",
    "\n",
    "## 1、求出每个点的速度、方向、速度较上一点的改变量、方向较上一点的改变量(v,theta,u,diata)-------------------------------------\n",
    "print 'computing v and u...'\n",
    "# 求出每个点的速度、方向(v,theta)-----------------------------------------\n",
    "\n",
    "tmp = df\n",
    "vtmp = [0]\n",
    "thetatmp = [0]\n",
    "vxtmp = [0]\n",
    "vytmp = [0]\n",
    "thetatmp = [0]\n",
    "\n",
    "for i in range(1,len(tmp)):\n",
    "    vx = tmp['x'][i] - tmp['x'][i-1]\n",
    "    vxtmp.append(vx)\n",
    "    vy = tmp['y'][i] - tmp['y'][i-1]    \n",
    "    vytmp.append(vy)\n",
    "    v = xy_to_len(vx,vy)\n",
    "    vtmp.append(v)\n",
    "    theta = tan_to_deg(vx,vy)\n",
    "    thetatmp.append(theta)\n",
    "\n",
    "df['vx'] = Series(vxtmp)\n",
    "df['vy'] = Series(vytmp)\n",
    "df['v'] = Series(vtmp)\n",
    "df['theta'] = Series(thetatmp)\n",
    "\n",
    "print 'fixing the error number...'\n",
    "# 修复漏洞------------------------------------------------------------------------------------------------------------------------------\n",
    "# 发现一个重大漏洞：每次计算没有把车辆分开计算，导致在index=800x处一系列数据异常，在index=800x+1处的加速度异常\n",
    "\n",
    "# 为了保险起见，将df中的值传入dftest，如果成功，再把dftest传回df\n",
    "dftest = df\n",
    "# 每条轨迹的初始点\n",
    "carnum = int(max(dftest['id'])+1)\n",
    "tmp1 = dftest.loc[[car*800 for car in range(carnum)]]\n",
    "# 每条轨迹的第二个点\n",
    "# tmp2 = dftest.loc[[car*800+1 for car in range(carnum)]]\n",
    "\n",
    "# 删除对应的错误行\n",
    "dftest.drop([car*800 for car in range(carnum)],inplace=True)\n",
    "# dftest.drop([car*800+1 for car in range(carnum)],inplace=True)\n",
    "\n",
    "# 批量修改\n",
    "tmp1['vx'] = 0.\n",
    "tmp1['vy'] = 0.\n",
    "tmp1['v'] = 0.\n",
    "tmp1['theta'] = 0.\n",
    "\n",
    "df = dftest.append(tmp1).sort_index()\n",
    "\n",
    "# 保存修复后的df\n",
    "df.to_csv('/mnt/data1/liheyuan/MD/HMM/hmm4/geolife_tongyi_df1.csv')\n",
    "print 'df has been output'\n",
    "\n",
    "# 提出用于参加训练隐马尔可夫模型的DataFrame：cdf-------------------------------------------------------------------------------------------------\n",
    "# cdf = DataFrame([df['id'],df['x'],df['y'],df['v'],df['theta'],df['u'],df['diata'],df['stops_time']])\n",
    "cdf = DataFrame([df['id'],df['x'],df['y'],df['v'],df['theta']])\n",
    "\n",
    "cdf = cdf.transpose()\n",
    "# fillna操作\n",
    "cdf['theta'] = cdf['theta'].fillna(method='ffill')\n",
    "# cdf['diata'] = cdf['diata'].fillna(0)\n",
    "# 保存\n",
    "cdf.to_csv('/mnt/data1/liheyuan/MD/HMM/hmm4/geolife_tongyi_cdf1.csv')  \n",
    "print 'cdf has been ouput'\n",
    "\n",
    "\n",
    "\n",
    "\n",
    "##########################################################对测试集进行数据预处理####################################################\n",
    "print 'loading test_set...'\n",
    "# test_set = loadtxt('testdata2.txt')\n",
    "test_set2 = loadtxt('/mnt/data2/TITS_data/geolife/geolife_test')\n",
    "df = train_set_to_df(test_set2)\n",
    "\n",
    "# 经纬度转换为坐标-----------------------------------------------------------------------------------------------------------------------------\n",
    "print 'transforming lon and lat to x and y...'\n",
    "tmpx = []\n",
    "tmpy = []\n",
    "for point in df.itertuples():\n",
    "    tmpx.append(point[3])\n",
    "    tmpy.append(point[2])\n",
    "\n",
    "df['x'] = tmpx\n",
    "df['y'] = tmpy\n",
    "\n",
    "## 1、求出每个点的速度、方向、速度较上一点的改变量、方向较上一点的改变量(v,theta,u,diata)-------------------------------------\n",
    "print 'computing v and u...'\n",
    "# 求出每个点的速度、方向(v,theta)-----------------------------------------\n",
    "\n",
    "tmp = df\n",
    "vtmp = [0]\n",
    "thetatmp = [0]\n",
    "vxtmp = [0]\n",
    "vytmp = [0]\n",
    "thetatmp = [0]\n",
    "\n",
    "for i in range(1,len(tmp)):\n",
    "    vx = tmp['x'][i] - tmp['x'][i-1]\n",
    "    vxtmp.append(vx)\n",
    "    vy = tmp['y'][i] - tmp['y'][i-1]    \n",
    "    vytmp.append(vy)\n",
    "    v = xy_to_len(vx,vy)\n",
    "    vtmp.append(v)\n",
    "    theta = tan_to_deg(vx,vy)\n",
    "    thetatmp.append(theta)\n",
    "\n",
    "df['vx'] = Series(vxtmp)\n",
    "df['vy'] = Series(vytmp)\n",
    "df['v'] = Series(vtmp)\n",
    "df['theta'] = Series(thetatmp)\n",
    "\n",
    "\n",
    "print 'fixing the error number...'\n",
    "# 修复漏洞------------------------------------------------------------------------------------------------------------------------------\n",
    "# 发现一个重大漏洞：每次计算没有把车辆分开计算，导致在index=800x处一系列数据异常，在index=800x+1处的加速度异常\n",
    "\n",
    "# 为了保险起见，将df中的值传入dftest，如果成功，再把dftest传回df\n",
    "dftest = df\n",
    "# 每条轨迹的初始点\n",
    "carnum = int(max(dftest['id'])+1)\n",
    "tmp1 = dftest.loc[[car*200 for car in range(carnum)]]\n",
    "# 每条轨迹的第二个点\n",
    "# tmp2 = dftest.loc[[car*200+1 for car in range(carnum)]]\n",
    "\n",
    "# 删除对应的错误行\n",
    "dftest.drop([car*200 for car in range(carnum)],inplace=True)\n",
    "# dftest.drop([car*200+1 for car in range(carnum)],inplace=True)\n",
    "\n",
    "# 批量修改\n",
    "tmp1['vx'] = 0.\n",
    "tmp1['vy'] = 0.\n",
    "tmp1['v'] = 0.\n",
    "tmp1['theta'] = 0.\n",
    "df = dftest.append(tmp1).sort_index()\n",
    "\n",
    "\n",
    "\n",
    "\n",
    "\n",
    "# 保存修复后的df\n",
    "df.to_csv('/mnt/data1/liheyuan/MD/HMM/hmm4/geolife_tongyi_tdf1.csv')\n",
    "print 'tdf has been output'\n",
    "\n",
    "# 提出用于参加训练隐马尔可夫模型的DataFrame：cdf-------------------------------------------------------------------------------------------------\n",
    "# cdf = DataFrame([df['id'],df['x'],df['y'],df['v'],df['theta'],df['u'],df['diata'],df['stops_time']])\n",
    "cdf = DataFrame([df['id'],df['x'],df['y'],df['v'],df['theta']])\n",
    "\n",
    "cdf = cdf.transpose()\n",
    "# fillna操作\n",
    "cdf['theta'] = cdf['theta'].fillna(method='ffill')\n",
    "# cdf['diata'] = cdf['diata'].fillna(0)\n",
    "# 保存\n",
    "cdf.to_csv('/mnt/data1/liheyuan/MD/HMM/hmm4/geolife_tongyi_ctdf1.csv')  \n",
    "print 'ctdf has been ouput'\n",
    "\n",
    "\n",
    "print 'data_pretreatment has been done'\n",
    "\n",
    "\n",
    "\n",
    "\n",
    "model_geolife_tongyi_300_iter_v_1m15d = hmm.GaussianHMM(n_components=16,n_iter=300)\n",
    "\n",
    "cdf = pd.read_csv('/mnt/data1/liheyuan/MD/HMM/hmm4/geolife_tongyi_cdf1.csv',index_col=0)\n",
    "traincol = cdf[['v']]\n",
    "traincol = np.array(traincol)\n",
    "lengths = [800]*(len(traincol)/800)\n",
    "model_geolife_tongyi_300_iter_v_1m15d.fit(traincol,lengths=lengths)\n",
    "joblib.dump(model_geolife_tongyi_300_iter_v_1m15d,'../models/model_geolife_tongyi_300_iter_v_1m15d.pkl')"
   ]
  },
  {
   "cell_type": "code",
   "execution_count": null,
   "metadata": {
    "collapsed": true
   },
   "outputs": [
    {
     "name": "stdout",
     "output_type": "stream",
     "text": [
      "假·隐马尔可夫模型\n",
      "1 step distance error\n"
     ]
    },
    {
     "data": {
      "application/vnd.jupyter.widget-view+json": {
       "model_id": "23c65129d70a437a8f4773cdcd18ced9",
       "version_major": 2,
       "version_minor": 0
      },
      "text/html": [
       "<p>Failed to display Jupyter Widget of type <code>HBox</code>.</p>\n",
       "<p>\n",
       "  If you're reading this message in the Jupyter Notebook or JupyterLab Notebook, it may mean\n",
       "  that the widgets JavaScript is still loading. If this message persists, it\n",
       "  likely means that the widgets JavaScript library is either not installed or\n",
       "  not enabled. See the <a href=\"https://ipywidgets.readthedocs.io/en/stable/user_install.html\">Jupyter\n",
       "  Widgets Documentation</a> for setup instructions.\n",
       "</p>\n",
       "<p>\n",
       "  If you're reading this message in another frontend (for example, a static\n",
       "  rendering on GitHub or <a href=\"https://nbviewer.jupyter.org/\">NBViewer</a>),\n",
       "  it may mean that your frontend doesn't currently support widgets.\n",
       "</p>\n"
      ],
      "text/plain": [
       "HBox(children=(IntProgress(value=0, max=150), HTML(value=u'')))"
      ]
     },
     "metadata": {},
     "output_type": "display_data"
    },
    {
     "name": "stdout",
     "output_type": "stream",
     "text": [
      "\n",
      "假·step=1 0.000113453324507\n",
      "10 step distance error\n"
     ]
    },
    {
     "data": {
      "application/vnd.jupyter.widget-view+json": {
       "model_id": "1d134863fb7044da82497d230fa37282",
       "version_major": 2,
       "version_minor": 0
      },
      "text/html": [
       "<p>Failed to display Jupyter Widget of type <code>HBox</code>.</p>\n",
       "<p>\n",
       "  If you're reading this message in the Jupyter Notebook or JupyterLab Notebook, it may mean\n",
       "  that the widgets JavaScript is still loading. If this message persists, it\n",
       "  likely means that the widgets JavaScript library is either not installed or\n",
       "  not enabled. See the <a href=\"https://ipywidgets.readthedocs.io/en/stable/user_install.html\">Jupyter\n",
       "  Widgets Documentation</a> for setup instructions.\n",
       "</p>\n",
       "<p>\n",
       "  If you're reading this message in another frontend (for example, a static\n",
       "  rendering on GitHub or <a href=\"https://nbviewer.jupyter.org/\">NBViewer</a>),\n",
       "  it may mean that your frontend doesn't currently support widgets.\n",
       "</p>\n"
      ],
      "text/plain": [
       "HBox(children=(IntProgress(value=0, max=140), HTML(value=u'')))"
      ]
     },
     "metadata": {},
     "output_type": "display_data"
    },
    {
     "name": "stdout",
     "output_type": "stream",
     "text": [
      "\n",
      "假·step=10 0.000939887413904\n",
      "20 step distance error\n"
     ]
    },
    {
     "data": {
      "application/vnd.jupyter.widget-view+json": {
       "model_id": "7ec2af2d5ee444f38fabbed420a5c900",
       "version_major": 2,
       "version_minor": 0
      },
      "text/html": [
       "<p>Failed to display Jupyter Widget of type <code>HBox</code>.</p>\n",
       "<p>\n",
       "  If you're reading this message in the Jupyter Notebook or JupyterLab Notebook, it may mean\n",
       "  that the widgets JavaScript is still loading. If this message persists, it\n",
       "  likely means that the widgets JavaScript library is either not installed or\n",
       "  not enabled. See the <a href=\"https://ipywidgets.readthedocs.io/en/stable/user_install.html\">Jupyter\n",
       "  Widgets Documentation</a> for setup instructions.\n",
       "</p>\n",
       "<p>\n",
       "  If you're reading this message in another frontend (for example, a static\n",
       "  rendering on GitHub or <a href=\"https://nbviewer.jupyter.org/\">NBViewer</a>),\n",
       "  it may mean that your frontend doesn't currently support widgets.\n",
       "</p>\n"
      ],
      "text/plain": [
       "HBox(children=(IntProgress(value=0, max=130), HTML(value=u'')))"
      ]
     },
     "metadata": {},
     "output_type": "display_data"
    },
    {
     "name": "stdout",
     "output_type": "stream",
     "text": [
      "\n",
      "假·step=20 0.00199607162065\n",
      "30 step distance error\n"
     ]
    },
    {
     "data": {
      "application/vnd.jupyter.widget-view+json": {
       "model_id": "f8a0f6320b6b4a1588a15e67fce0d988",
       "version_major": 2,
       "version_minor": 0
      },
      "text/html": [
       "<p>Failed to display Jupyter Widget of type <code>HBox</code>.</p>\n",
       "<p>\n",
       "  If you're reading this message in the Jupyter Notebook or JupyterLab Notebook, it may mean\n",
       "  that the widgets JavaScript is still loading. If this message persists, it\n",
       "  likely means that the widgets JavaScript library is either not installed or\n",
       "  not enabled. See the <a href=\"https://ipywidgets.readthedocs.io/en/stable/user_install.html\">Jupyter\n",
       "  Widgets Documentation</a> for setup instructions.\n",
       "</p>\n",
       "<p>\n",
       "  If you're reading this message in another frontend (for example, a static\n",
       "  rendering on GitHub or <a href=\"https://nbviewer.jupyter.org/\">NBViewer</a>),\n",
       "  it may mean that your frontend doesn't currently support widgets.\n",
       "</p>\n"
      ],
      "text/plain": [
       "HBox(children=(IntProgress(value=0, max=120), HTML(value=u'')))"
      ]
     },
     "metadata": {},
     "output_type": "display_data"
    },
    {
     "name": "stdout",
     "output_type": "stream",
     "text": [
      "\n",
      "假·step=30 0.00314326577344\n",
      "真·隐马尔可夫模型\n",
      "1 step distance error\n"
     ]
    },
    {
     "data": {
      "application/vnd.jupyter.widget-view+json": {
       "model_id": "72adafadc0f84d198d38cbecc1fde841",
       "version_major": 2,
       "version_minor": 0
      },
      "text/html": [
       "<p>Failed to display Jupyter Widget of type <code>HBox</code>.</p>\n",
       "<p>\n",
       "  If you're reading this message in the Jupyter Notebook or JupyterLab Notebook, it may mean\n",
       "  that the widgets JavaScript is still loading. If this message persists, it\n",
       "  likely means that the widgets JavaScript library is either not installed or\n",
       "  not enabled. See the <a href=\"https://ipywidgets.readthedocs.io/en/stable/user_install.html\">Jupyter\n",
       "  Widgets Documentation</a> for setup instructions.\n",
       "</p>\n",
       "<p>\n",
       "  If you're reading this message in another frontend (for example, a static\n",
       "  rendering on GitHub or <a href=\"https://nbviewer.jupyter.org/\">NBViewer</a>),\n",
       "  it may mean that your frontend doesn't currently support widgets.\n",
       "</p>\n"
      ],
      "text/plain": [
       "HBox(children=(IntProgress(value=0, max=150), HTML(value=u'')))"
      ]
     },
     "metadata": {},
     "output_type": "display_data"
    }
   ],
   "source": [
    "from tqdm import tqdm_notebook as tqdm\n",
    "\n",
    "df = pd.read_csv('/mnt/data1/liheyuan/MD/HMM/hmm4/geolife_tongyi_df1.csv',index_col=0)   # index_col=0 可以去掉Unnamed0\n",
    "cdf = pd.read_csv('/mnt/data1/liheyuan/MD/HMM/hmm4/geolife_tongyi_cdf1.csv',index_col=0)\n",
    "tdf = pd.read_csv('/mnt/data1/liheyuan/MD/HMM/hmm4/geolife_tongyi_tdf1.csv',index_col=0)\n",
    "ctdf = pd.read_csv('/mnt/data1/liheyuan/MD/HMM/hmm4/geolife_tongyi_cdf1.csv',index_col=0)\n",
    "\n",
    "state_to_v = state_mean_v(model_geolife_tongyi_300_iter_v_1m15d,cdf)\n",
    "\n",
    "# 假·隐马尔可夫模型-----------------------------------------------------------------------------------------\n",
    "# 预测一次，后面等距\n",
    "\n",
    "print '假·隐马尔可夫模型'\n",
    "\n",
    "print '1 step distance error'\n",
    "errors = []\n",
    "for timestamp in tqdm(range(29,179)):\n",
    "    errors.append(over_error(model_geolife_tongyi_300_iter_v_1m15d,cdf,ctdf,last_point_num=timestamp,steps=1))\n",
    "print '假·step=1',mean(errors)\n",
    "\n",
    "\n",
    "print '10 step distance error'\n",
    "errors = []\n",
    "for timestamp in tqdm(range(29,169)):\n",
    "    errors.append(over_error(model_geolife_tongyi_300_iter_v_1m15d,cdf,ctdf,last_point_num=timestamp,steps=10))\n",
    "print '假·step=10',mean(errors)\n",
    "\n",
    "\n",
    "print '20 step distance error'\n",
    "errors = []\n",
    "for timestamp in tqdm(range(29,159)):\n",
    "    errors.append(over_error(model_geolife_tongyi_300_iter_v_1m15d,cdf,ctdf,last_point_num=timestamp,steps=20))\n",
    "print '假·step=20',mean(errors)\n",
    "\n",
    "\n",
    "print '30 step distance error'\n",
    "errors = []\n",
    "for timestamp in tqdm(range(29,149)):\n",
    "    errors.append(over_error(model_geolife_tongyi_300_iter_v_1m15d,cdf,ctdf,last_point_num=timestamp,steps=30))\n",
    "print '假·step=30',mean(errors)\n",
    "\n",
    "# 真·隐马尔可夫模型-------------------------------------------------------------------------------------------\n",
    "# 每步的预测严格依照上一步预测\n",
    "\n",
    "print '真·隐马尔可夫模型'\n",
    "\n",
    "print '1 step distance error'\n",
    "errors = []\n",
    "for timestamp in tqdm(range(29,179)):\n",
    "    errors.append(over_error1(model_geolife_tongyi_300_iter_v_1m15d,cdf,ctdf,last_point_num=timestamp,steps=1))\n",
    "print '真·step=1',mean(errors)\n",
    "\n",
    "\n",
    "print '10 step distance error'\n",
    "errors = []\n",
    "for timestamp in tqdm(range(29,169)):\n",
    "    errors.append(over_error1(model_geolife_tongyi_300_iter_v_1m15d,cdf,ctdf,last_point_num=timestamp,steps=10))\n",
    "print '真·step=10',mean(errors)\n",
    "\n",
    "\n",
    "print '20 step distance error'\n",
    "errors = []\n",
    "for timestamp in tqdm(range(29,159)):\n",
    "    errors.append(over_error1(model_geolife_tongyi_300_iter_v_1m15d,cdf,ctdf,last_point_num=timestamp,steps=20))\n",
    "print '真·step=20',mean(errors)\n",
    "\n",
    "\n",
    "print '30 step distance error'\n",
    "errors = []\n",
    "for timestamp in tqdm(range(29,149)):\n",
    "    errors.append(over_error1(model_geolife_tongyi_300_iter_v_1m15d,cdf,ctdf,last_point_num=timestamp,steps=30))\n",
    "print '真·step=30',mean(errors)"
   ]
  },
  {
   "cell_type": "code",
   "execution_count": 7,
   "metadata": {
    "ExecuteTime": {
     "end_time": "2018-01-23T14:04:12.491089Z",
     "start_time": "2018-01-23T10:51:38.381160Z"
    },
    "scrolled": false
   },
   "outputs": [
    {
     "name": "stdout",
     "output_type": "stream",
     "text": [
      "真·隐马尔可夫模型\n",
      "1 step distance error\n"
     ]
    },
    {
     "data": {
      "application/vnd.jupyter.widget-view+json": {
       "model_id": "80e6003cf07b486099111ba63b4d08b8",
       "version_major": 2,
       "version_minor": 0
      },
      "text/html": [
       "<p>Failed to display Jupyter Widget of type <code>HBox</code>.</p>\n",
       "<p>\n",
       "  If you're reading this message in the Jupyter Notebook or JupyterLab Notebook, it may mean\n",
       "  that the widgets JavaScript is still loading. If this message persists, it\n",
       "  likely means that the widgets JavaScript library is either not installed or\n",
       "  not enabled. See the <a href=\"https://ipywidgets.readthedocs.io/en/stable/user_install.html\">Jupyter\n",
       "  Widgets Documentation</a> for setup instructions.\n",
       "</p>\n",
       "<p>\n",
       "  If you're reading this message in another frontend (for example, a static\n",
       "  rendering on GitHub or <a href=\"https://nbviewer.jupyter.org/\">NBViewer</a>),\n",
       "  it may mean that your frontend doesn't currently support widgets.\n",
       "</p>\n"
      ],
      "text/plain": [
       "HBox(children=(IntProgress(value=0, max=150), HTML(value=u'')))"
      ]
     },
     "metadata": {},
     "output_type": "display_data"
    },
    {
     "name": "stdout",
     "output_type": "stream",
     "text": [
      "\n",
      "真·step=1 0.00011345332450746011\n",
      "10 step distance error\n"
     ]
    },
    {
     "data": {
      "application/vnd.jupyter.widget-view+json": {
       "model_id": "debf3917b2384ed7b01cd141ddb6a214",
       "version_major": 2,
       "version_minor": 0
      },
      "text/html": [
       "<p>Failed to display Jupyter Widget of type <code>HBox</code>.</p>\n",
       "<p>\n",
       "  If you're reading this message in the Jupyter Notebook or JupyterLab Notebook, it may mean\n",
       "  that the widgets JavaScript is still loading. If this message persists, it\n",
       "  likely means that the widgets JavaScript library is either not installed or\n",
       "  not enabled. See the <a href=\"https://ipywidgets.readthedocs.io/en/stable/user_install.html\">Jupyter\n",
       "  Widgets Documentation</a> for setup instructions.\n",
       "</p>\n",
       "<p>\n",
       "  If you're reading this message in another frontend (for example, a static\n",
       "  rendering on GitHub or <a href=\"https://nbviewer.jupyter.org/\">NBViewer</a>),\n",
       "  it may mean that your frontend doesn't currently support widgets.\n",
       "</p>\n"
      ],
      "text/plain": [
       "HBox(children=(IntProgress(value=0, max=140), HTML(value=u'')))"
      ]
     },
     "metadata": {},
     "output_type": "display_data"
    },
    {
     "name": "stdout",
     "output_type": "stream",
     "text": [
      "\n",
      "真·step=10 0.0010022125386457506\n",
      "20 step distance error\n"
     ]
    },
    {
     "data": {
      "application/vnd.jupyter.widget-view+json": {
       "model_id": "945b3f404c624ca98c13fd7a7f99ba44",
       "version_major": 2,
       "version_minor": 0
      },
      "text/html": [
       "<p>Failed to display Jupyter Widget of type <code>HBox</code>.</p>\n",
       "<p>\n",
       "  If you're reading this message in the Jupyter Notebook or JupyterLab Notebook, it may mean\n",
       "  that the widgets JavaScript is still loading. If this message persists, it\n",
       "  likely means that the widgets JavaScript library is either not installed or\n",
       "  not enabled. See the <a href=\"https://ipywidgets.readthedocs.io/en/stable/user_install.html\">Jupyter\n",
       "  Widgets Documentation</a> for setup instructions.\n",
       "</p>\n",
       "<p>\n",
       "  If you're reading this message in another frontend (for example, a static\n",
       "  rendering on GitHub or <a href=\"https://nbviewer.jupyter.org/\">NBViewer</a>),\n",
       "  it may mean that your frontend doesn't currently support widgets.\n",
       "</p>\n"
      ],
      "text/plain": [
       "HBox(children=(IntProgress(value=0, max=130), HTML(value=u'')))"
      ]
     },
     "metadata": {},
     "output_type": "display_data"
    },
    {
     "name": "stdout",
     "output_type": "stream",
     "text": [
      "\n",
      "真·step=20 0.0021369927710491263\n",
      "30 step distance error\n"
     ]
    },
    {
     "data": {
      "application/vnd.jupyter.widget-view+json": {
       "model_id": "3695ce17b87a4e8098e983adfa84a7af",
       "version_major": 2,
       "version_minor": 0
      },
      "text/html": [
       "<p>Failed to display Jupyter Widget of type <code>HBox</code>.</p>\n",
       "<p>\n",
       "  If you're reading this message in the Jupyter Notebook or JupyterLab Notebook, it may mean\n",
       "  that the widgets JavaScript is still loading. If this message persists, it\n",
       "  likely means that the widgets JavaScript library is either not installed or\n",
       "  not enabled. See the <a href=\"https://ipywidgets.readthedocs.io/en/stable/user_install.html\">Jupyter\n",
       "  Widgets Documentation</a> for setup instructions.\n",
       "</p>\n",
       "<p>\n",
       "  If you're reading this message in another frontend (for example, a static\n",
       "  rendering on GitHub or <a href=\"https://nbviewer.jupyter.org/\">NBViewer</a>),\n",
       "  it may mean that your frontend doesn't currently support widgets.\n",
       "</p>\n"
      ],
      "text/plain": [
       "HBox(children=(IntProgress(value=0, max=120), HTML(value=u'')))"
      ]
     },
     "metadata": {},
     "output_type": "display_data"
    },
    {
     "name": "stdout",
     "output_type": "stream",
     "text": [
      "\n",
      "真·step=30 0.003366791081903485\n"
     ]
    }
   ],
   "source": [
    "from tqdm import tqdm_notebook as tqdm\n",
    "import pandas as pd\n",
    "from numpy import *\n",
    "from funcs import *\n",
    "from pandas import Series,DataFrame\n",
    "import pandas as pd\n",
    "import numpy as np\n",
    "from sklearn.externals import joblib\n",
    "from hmmlearn import hmm\n",
    "import warnings\n",
    "warnings.filterwarnings('ignore')\n",
    "%run funcs.py\n",
    "\n",
    "model_geolife_tongyi_300_iter_v_1m15d = joblib.load('../models/model_geolife_tongyi_300_iter_v_1m15d.pkl')\n",
    "\n",
    "from tqdm import tqdm_notebook as tqdm\n",
    "\n",
    "df = pd.read_csv('/mnt/data1/liheyuan/MD/HMM/hmm4/geolife_tongyi_df1.csv',index_col=0)   # index_col=0 可以去掉Unnamed0\n",
    "cdf = pd.read_csv('/mnt/data1/liheyuan/MD/HMM/hmm4/geolife_tongyi_cdf1.csv',index_col=0)\n",
    "tdf = pd.read_csv('/mnt/data1/liheyuan/MD/HMM/hmm4/geolife_tongyi_tdf1.csv',index_col=0)\n",
    "ctdf = pd.read_csv('/mnt/data1/liheyuan/MD/HMM/hmm4/geolife_tongyi_cdf1.csv',index_col=0)\n",
    "\n",
    "state_to_v = state_mean_v(model_geolife_tongyi_300_iter_v_1m15d,cdf)\n",
    "\n",
    "# 真·隐马尔可夫模型-------------------------------------------------------------------------------------------\n",
    "# 每步的预测严格依照上一步预测\n",
    "\n",
    "print '真·隐马尔可夫模型'\n",
    "\n",
    "print '1 step distance error'\n",
    "errors = []\n",
    "for timestamp in tqdm(range(29,179)):\n",
    "    errors.append(over_error1(model_geolife_tongyi_300_iter_v_1m15d,cdf,ctdf,last_point_num=timestamp,steps=1))\n",
    "print '真·step=1',mean(errors)\n",
    "\n",
    "\n",
    "print '10 step distance error'\n",
    "errors = []\n",
    "for timestamp in tqdm(range(29,169)):\n",
    "    errors.append(over_error1(model_geolife_tongyi_300_iter_v_1m15d,cdf,ctdf,last_point_num=timestamp,steps=10))\n",
    "print '真·step=10',mean(errors)\n",
    "\n",
    "\n",
    "print '20 step distance error'\n",
    "errors = []\n",
    "for timestamp in tqdm(range(29,159)):\n",
    "    errors.append(over_error1(model_geolife_tongyi_300_iter_v_1m15d,cdf,ctdf,last_point_num=timestamp,steps=20))\n",
    "print '真·step=20',mean(errors)\n",
    "\n",
    "\n",
    "print '30 step distance error'\n",
    "errors = []\n",
    "for timestamp in tqdm(range(29,149)):\n",
    "    errors.append(over_error1(model_geolife_tongyi_300_iter_v_1m15d,cdf,ctdf,last_point_num=timestamp,steps=30))\n",
    "print '真·step=30',mean(errors)"
   ]
  },
  {
   "cell_type": "code",
   "execution_count": 1,
   "metadata": {
    "ExecuteTime": {
     "end_time": "2018-02-13T17:03:23.525510Z",
     "start_time": "2018-02-13T12:59:28.258707Z"
    }
   },
   "outputs": [
    {
     "name": "stdout",
     "output_type": "stream",
     "text": [
      "假·隐马尔可夫模型\n",
      "40 step distance error\n"
     ]
    },
    {
     "data": {
      "application/vnd.jupyter.widget-view+json": {
       "model_id": "e39f5f0b81704a408f854b44d68da605",
       "version_major": 2,
       "version_minor": 0
      },
      "text/html": [
       "<p>Failed to display Jupyter Widget of type <code>HBox</code>.</p>\n",
       "<p>\n",
       "  If you're reading this message in the Jupyter Notebook or JupyterLab Notebook, it may mean\n",
       "  that the widgets JavaScript is still loading. If this message persists, it\n",
       "  likely means that the widgets JavaScript library is either not installed or\n",
       "  not enabled. See the <a href=\"https://ipywidgets.readthedocs.io/en/stable/user_install.html\">Jupyter\n",
       "  Widgets Documentation</a> for setup instructions.\n",
       "</p>\n",
       "<p>\n",
       "  If you're reading this message in another frontend (for example, a static\n",
       "  rendering on GitHub or <a href=\"https://nbviewer.jupyter.org/\">NBViewer</a>),\n",
       "  it may mean that your frontend doesn't currently support widgets.\n",
       "</p>\n"
      ],
      "text/plain": [
       "HBox(children=(IntProgress(value=0, max=110), HTML(value=u'')))"
      ]
     },
     "metadata": {},
     "output_type": "display_data"
    },
    {
     "name": "stdout",
     "output_type": "stream",
     "text": [
      "\n",
      "假·step=40 0.00999355965781159\n",
      "50 step distance error\n"
     ]
    },
    {
     "data": {
      "application/vnd.jupyter.widget-view+json": {
       "model_id": "3840ffbf9aba4faa8a1c5eba4d34c32b",
       "version_major": 2,
       "version_minor": 0
      },
      "text/html": [
       "<p>Failed to display Jupyter Widget of type <code>HBox</code>.</p>\n",
       "<p>\n",
       "  If you're reading this message in the Jupyter Notebook or JupyterLab Notebook, it may mean\n",
       "  that the widgets JavaScript is still loading. If this message persists, it\n",
       "  likely means that the widgets JavaScript library is either not installed or\n",
       "  not enabled. See the <a href=\"https://ipywidgets.readthedocs.io/en/stable/user_install.html\">Jupyter\n",
       "  Widgets Documentation</a> for setup instructions.\n",
       "</p>\n",
       "<p>\n",
       "  If you're reading this message in another frontend (for example, a static\n",
       "  rendering on GitHub or <a href=\"https://nbviewer.jupyter.org/\">NBViewer</a>),\n",
       "  it may mean that your frontend doesn't currently support widgets.\n",
       "</p>\n"
      ],
      "text/plain": [
       "HBox(children=(IntProgress(value=0), HTML(value=u'')))"
      ]
     },
     "metadata": {},
     "output_type": "display_data"
    },
    {
     "name": "stdout",
     "output_type": "stream",
     "text": [
      "\n",
      "假·step=50 0.013399646735105918\n",
      "真·隐马尔可夫模型\n",
      "40 step distance error\n"
     ]
    },
    {
     "data": {
      "application/vnd.jupyter.widget-view+json": {
       "model_id": "95d69e8d181a4b709f275ac9ff191c7c",
       "version_major": 2,
       "version_minor": 0
      },
      "text/html": [
       "<p>Failed to display Jupyter Widget of type <code>HBox</code>.</p>\n",
       "<p>\n",
       "  If you're reading this message in the Jupyter Notebook or JupyterLab Notebook, it may mean\n",
       "  that the widgets JavaScript is still loading. If this message persists, it\n",
       "  likely means that the widgets JavaScript library is either not installed or\n",
       "  not enabled. See the <a href=\"https://ipywidgets.readthedocs.io/en/stable/user_install.html\">Jupyter\n",
       "  Widgets Documentation</a> for setup instructions.\n",
       "</p>\n",
       "<p>\n",
       "  If you're reading this message in another frontend (for example, a static\n",
       "  rendering on GitHub or <a href=\"https://nbviewer.jupyter.org/\">NBViewer</a>),\n",
       "  it may mean that your frontend doesn't currently support widgets.\n",
       "</p>\n"
      ],
      "text/plain": [
       "HBox(children=(IntProgress(value=0, max=110), HTML(value=u'')))"
      ]
     },
     "metadata": {},
     "output_type": "display_data"
    },
    {
     "name": "stdout",
     "output_type": "stream",
     "text": [
      "\n",
      "真·step=40 0.010318846614337948\n",
      "50 step distance error\n"
     ]
    },
    {
     "data": {
      "application/vnd.jupyter.widget-view+json": {
       "model_id": "07f23d48294945b4b8b494c311631a4c",
       "version_major": 2,
       "version_minor": 0
      },
      "text/html": [
       "<p>Failed to display Jupyter Widget of type <code>HBox</code>.</p>\n",
       "<p>\n",
       "  If you're reading this message in the Jupyter Notebook or JupyterLab Notebook, it may mean\n",
       "  that the widgets JavaScript is still loading. If this message persists, it\n",
       "  likely means that the widgets JavaScript library is either not installed or\n",
       "  not enabled. See the <a href=\"https://ipywidgets.readthedocs.io/en/stable/user_install.html\">Jupyter\n",
       "  Widgets Documentation</a> for setup instructions.\n",
       "</p>\n",
       "<p>\n",
       "  If you're reading this message in another frontend (for example, a static\n",
       "  rendering on GitHub or <a href=\"https://nbviewer.jupyter.org/\">NBViewer</a>),\n",
       "  it may mean that your frontend doesn't currently support widgets.\n",
       "</p>\n"
      ],
      "text/plain": [
       "HBox(children=(IntProgress(value=0), HTML(value=u'')))"
      ]
     },
     "metadata": {},
     "output_type": "display_data"
    },
    {
     "name": "stdout",
     "output_type": "stream",
     "text": [
      "\n",
      "真·step=50 0.013803129348388697\n"
     ]
    }
   ],
   "source": [
    "from tqdm import tqdm_notebook as tqdm\n",
    "import pandas as pd\n",
    "from numpy import *\n",
    "from funcs import *\n",
    "from pandas import Series,DataFrame\n",
    "import pandas as pd\n",
    "import numpy as np\n",
    "from sklearn.externals import joblib\n",
    "from hmmlearn import hmm\n",
    "import warnings\n",
    "warnings.filterwarnings('ignore')\n",
    "%run funcs.py\n",
    "\n",
    "model_geolife_tongyi_300_iter_v_1m15d = joblib.load('../models/model_geolife_tongyi_300_iter_v_1m15d.pkl')\n",
    "\n",
    "cdf = pd.read_csv('/home/liheyuan/Jupyter/trajectory_prediction/trajectory_prediction_1/HMM/hmm4/middata/geolife_tongyi_cdf1.csv',index_col=0)\n",
    "ctdf = pd.read_csv('/home/liheyuan/Jupyter/trajectory_prediction/trajectory_prediction_1/HMM/hmm4/middata/geolife_tongyi_ctdf1.csv',index_col=0)\n",
    "\n",
    "\n",
    "state_to_v = state_mean_v(model_geolife_tongyi_300_iter_v_1m15d,cdf)\n",
    "\n",
    "print '假·隐马尔可夫模型'\n",
    "\n",
    "print '40 step distance error'\n",
    "errors = []\n",
    "for timestamp in tqdm(range(29,139)):\n",
    "    errors.append(over_error(model_geolife_tongyi_300_iter_v_1m15d,cdf,ctdf,last_point_num=timestamp,steps=40))\n",
    "print '假·step=40',mean(errors)\n",
    "\n",
    "\n",
    "print '50 step distance error'\n",
    "errors = []\n",
    "for timestamp in tqdm(range(29,129)):\n",
    "    errors.append(over_error(model_geolife_tongyi_300_iter_v_1m15d,cdf,ctdf,last_point_num=timestamp,steps=50))\n",
    "print '假·step=50',mean(errors)\n",
    "\n",
    "# 真·隐马尔可夫模型-------------------------------------------------------------------------------------------\n",
    "# 每步的预测严格依照上一步预测\n",
    "\n",
    "print '真·隐马尔可夫模型'\n",
    "\n",
    "print '40 step distance error'\n",
    "errors = []\n",
    "for timestamp in tqdm(range(29,139)):\n",
    "    errors.append(over_error1(model_geolife_tongyi_300_iter_v_1m15d,cdf,ctdf,last_point_num=timestamp,steps=40))\n",
    "print '真·step=40',mean(errors)\n",
    "\n",
    "\n",
    "print '50 step distance error'\n",
    "errors = []\n",
    "for timestamp in tqdm(range(29,129)):\n",
    "    errors.append(over_error1(model_geolife_tongyi_300_iter_v_1m15d,cdf,ctdf,last_point_num=timestamp,steps=50))\n",
    "print '真·step=50',mean(errors)"
   ]
  },
  {
   "cell_type": "code",
   "execution_count": 1,
   "metadata": {
    "ExecuteTime": {
     "end_time": "2018-02-16T02:53:41.848674Z",
     "start_time": "2018-02-15T19:08:30.363722Z"
    }
   },
   "outputs": [
    {
     "name": "stdout",
     "output_type": "stream",
     "text": [
      "假·隐马尔可夫模型\n",
      "1 step distance error\n"
     ]
    },
    {
     "data": {
      "application/vnd.jupyter.widget-view+json": {
       "model_id": "242d457d7565413e99cfe2a6a03478eb",
       "version_major": 2,
       "version_minor": 0
      },
      "text/html": [
       "<p>Failed to display Jupyter Widget of type <code>HBox</code>.</p>\n",
       "<p>\n",
       "  If you're reading this message in the Jupyter Notebook or JupyterLab Notebook, it may mean\n",
       "  that the widgets JavaScript is still loading. If this message persists, it\n",
       "  likely means that the widgets JavaScript library is either not installed or\n",
       "  not enabled. See the <a href=\"https://ipywidgets.readthedocs.io/en/stable/user_install.html\">Jupyter\n",
       "  Widgets Documentation</a> for setup instructions.\n",
       "</p>\n",
       "<p>\n",
       "  If you're reading this message in another frontend (for example, a static\n",
       "  rendering on GitHub or <a href=\"https://nbviewer.jupyter.org/\">NBViewer</a>),\n",
       "  it may mean that your frontend doesn't currently support widgets.\n",
       "</p>\n"
      ],
      "text/plain": [
       "HBox(children=(IntProgress(value=0, max=150), HTML(value=u'')))"
      ]
     },
     "metadata": {},
     "output_type": "display_data"
    },
    {
     "name": "stdout",
     "output_type": "stream",
     "text": [
      "\n",
      "假·step=1 0.00012575059120513202\n",
      "10 step distance error\n"
     ]
    },
    {
     "data": {
      "application/vnd.jupyter.widget-view+json": {
       "model_id": "fe9cdf500b16488db7bd14a135747fff",
       "version_major": 2,
       "version_minor": 0
      },
      "text/html": [
       "<p>Failed to display Jupyter Widget of type <code>HBox</code>.</p>\n",
       "<p>\n",
       "  If you're reading this message in the Jupyter Notebook or JupyterLab Notebook, it may mean\n",
       "  that the widgets JavaScript is still loading. If this message persists, it\n",
       "  likely means that the widgets JavaScript library is either not installed or\n",
       "  not enabled. See the <a href=\"https://ipywidgets.readthedocs.io/en/stable/user_install.html\">Jupyter\n",
       "  Widgets Documentation</a> for setup instructions.\n",
       "</p>\n",
       "<p>\n",
       "  If you're reading this message in another frontend (for example, a static\n",
       "  rendering on GitHub or <a href=\"https://nbviewer.jupyter.org/\">NBViewer</a>),\n",
       "  it may mean that your frontend doesn't currently support widgets.\n",
       "</p>\n"
      ],
      "text/plain": [
       "HBox(children=(IntProgress(value=0, max=140), HTML(value=u'')))"
      ]
     },
     "metadata": {},
     "output_type": "display_data"
    },
    {
     "name": "stdout",
     "output_type": "stream",
     "text": [
      "\n",
      "假·step=10 0.0019974101236076265\n",
      "20 step distance error\n"
     ]
    },
    {
     "data": {
      "application/vnd.jupyter.widget-view+json": {
       "model_id": "f72e406697e34e2a8f33cf8cba000b65",
       "version_major": 2,
       "version_minor": 0
      },
      "text/html": [
       "<p>Failed to display Jupyter Widget of type <code>HBox</code>.</p>\n",
       "<p>\n",
       "  If you're reading this message in the Jupyter Notebook or JupyterLab Notebook, it may mean\n",
       "  that the widgets JavaScript is still loading. If this message persists, it\n",
       "  likely means that the widgets JavaScript library is either not installed or\n",
       "  not enabled. See the <a href=\"https://ipywidgets.readthedocs.io/en/stable/user_install.html\">Jupyter\n",
       "  Widgets Documentation</a> for setup instructions.\n",
       "</p>\n",
       "<p>\n",
       "  If you're reading this message in another frontend (for example, a static\n",
       "  rendering on GitHub or <a href=\"https://nbviewer.jupyter.org/\">NBViewer</a>),\n",
       "  it may mean that your frontend doesn't currently support widgets.\n",
       "</p>\n"
      ],
      "text/plain": [
       "HBox(children=(IntProgress(value=0, max=130), HTML(value=u'')))"
      ]
     },
     "metadata": {},
     "output_type": "display_data"
    },
    {
     "name": "stdout",
     "output_type": "stream",
     "text": [
      "\n",
      "假·step=20 0.004365794928712431\n",
      "30 step distance error\n"
     ]
    },
    {
     "data": {
      "application/vnd.jupyter.widget-view+json": {
       "model_id": "c7b0d4c8d8764451a6eebd5456e58851",
       "version_major": 2,
       "version_minor": 0
      },
      "text/html": [
       "<p>Failed to display Jupyter Widget of type <code>HBox</code>.</p>\n",
       "<p>\n",
       "  If you're reading this message in the Jupyter Notebook or JupyterLab Notebook, it may mean\n",
       "  that the widgets JavaScript is still loading. If this message persists, it\n",
       "  likely means that the widgets JavaScript library is either not installed or\n",
       "  not enabled. See the <a href=\"https://ipywidgets.readthedocs.io/en/stable/user_install.html\">Jupyter\n",
       "  Widgets Documentation</a> for setup instructions.\n",
       "</p>\n",
       "<p>\n",
       "  If you're reading this message in another frontend (for example, a static\n",
       "  rendering on GitHub or <a href=\"https://nbviewer.jupyter.org/\">NBViewer</a>),\n",
       "  it may mean that your frontend doesn't currently support widgets.\n",
       "</p>\n"
      ],
      "text/plain": [
       "HBox(children=(IntProgress(value=0, max=120), HTML(value=u'')))"
      ]
     },
     "metadata": {},
     "output_type": "display_data"
    },
    {
     "name": "stdout",
     "output_type": "stream",
     "text": [
      "\n",
      "假·step=30 0.007009588773422875\n",
      "40 step distance error\n"
     ]
    },
    {
     "data": {
      "application/vnd.jupyter.widget-view+json": {
       "model_id": "cdd53e5be99e48a7bd885120f9150b04",
       "version_major": 2,
       "version_minor": 0
      },
      "text/html": [
       "<p>Failed to display Jupyter Widget of type <code>HBox</code>.</p>\n",
       "<p>\n",
       "  If you're reading this message in the Jupyter Notebook or JupyterLab Notebook, it may mean\n",
       "  that the widgets JavaScript is still loading. If this message persists, it\n",
       "  likely means that the widgets JavaScript library is either not installed or\n",
       "  not enabled. See the <a href=\"https://ipywidgets.readthedocs.io/en/stable/user_install.html\">Jupyter\n",
       "  Widgets Documentation</a> for setup instructions.\n",
       "</p>\n",
       "<p>\n",
       "  If you're reading this message in another frontend (for example, a static\n",
       "  rendering on GitHub or <a href=\"https://nbviewer.jupyter.org/\">NBViewer</a>),\n",
       "  it may mean that your frontend doesn't currently support widgets.\n",
       "</p>\n"
      ],
      "text/plain": [
       "HBox(children=(IntProgress(value=0, max=110), HTML(value=u'')))"
      ]
     },
     "metadata": {},
     "output_type": "display_data"
    },
    {
     "name": "stdout",
     "output_type": "stream",
     "text": [
      "\n",
      "假·step=40 0.00999355965781159\n",
      "50 step distance error\n"
     ]
    },
    {
     "data": {
      "application/vnd.jupyter.widget-view+json": {
       "model_id": "068054aca623487b828eb2f1eb42b6b9",
       "version_major": 2,
       "version_minor": 0
      },
      "text/html": [
       "<p>Failed to display Jupyter Widget of type <code>HBox</code>.</p>\n",
       "<p>\n",
       "  If you're reading this message in the Jupyter Notebook or JupyterLab Notebook, it may mean\n",
       "  that the widgets JavaScript is still loading. If this message persists, it\n",
       "  likely means that the widgets JavaScript library is either not installed or\n",
       "  not enabled. See the <a href=\"https://ipywidgets.readthedocs.io/en/stable/user_install.html\">Jupyter\n",
       "  Widgets Documentation</a> for setup instructions.\n",
       "</p>\n",
       "<p>\n",
       "  If you're reading this message in another frontend (for example, a static\n",
       "  rendering on GitHub or <a href=\"https://nbviewer.jupyter.org/\">NBViewer</a>),\n",
       "  it may mean that your frontend doesn't currently support widgets.\n",
       "</p>\n"
      ],
      "text/plain": [
       "HBox(children=(IntProgress(value=0), HTML(value=u'')))"
      ]
     },
     "metadata": {},
     "output_type": "display_data"
    },
    {
     "name": "stdout",
     "output_type": "stream",
     "text": [
      "\n",
      "假·step=50 0.013399646735105918\n",
      "真·隐马尔可夫模型\n",
      "1 step distance error\n"
     ]
    },
    {
     "data": {
      "application/vnd.jupyter.widget-view+json": {
       "model_id": "9442d54c61564c29bb14e594f22db2c3",
       "version_major": 2,
       "version_minor": 0
      },
      "text/html": [
       "<p>Failed to display Jupyter Widget of type <code>HBox</code>.</p>\n",
       "<p>\n",
       "  If you're reading this message in the Jupyter Notebook or JupyterLab Notebook, it may mean\n",
       "  that the widgets JavaScript is still loading. If this message persists, it\n",
       "  likely means that the widgets JavaScript library is either not installed or\n",
       "  not enabled. See the <a href=\"https://ipywidgets.readthedocs.io/en/stable/user_install.html\">Jupyter\n",
       "  Widgets Documentation</a> for setup instructions.\n",
       "</p>\n",
       "<p>\n",
       "  If you're reading this message in another frontend (for example, a static\n",
       "  rendering on GitHub or <a href=\"https://nbviewer.jupyter.org/\">NBViewer</a>),\n",
       "  it may mean that your frontend doesn't currently support widgets.\n",
       "</p>\n"
      ],
      "text/plain": [
       "HBox(children=(IntProgress(value=0, max=150), HTML(value=u'')))"
      ]
     },
     "metadata": {},
     "output_type": "display_data"
    },
    {
     "name": "stdout",
     "output_type": "stream",
     "text": [
      "\n",
      "真·step=1 0.00012575059120513202\n",
      "10 step distance error\n"
     ]
    },
    {
     "data": {
      "application/vnd.jupyter.widget-view+json": {
       "model_id": "c3f861969149411f87e6ce7f0ef020fe",
       "version_major": 2,
       "version_minor": 0
      },
      "text/html": [
       "<p>Failed to display Jupyter Widget of type <code>HBox</code>.</p>\n",
       "<p>\n",
       "  If you're reading this message in the Jupyter Notebook or JupyterLab Notebook, it may mean\n",
       "  that the widgets JavaScript is still loading. If this message persists, it\n",
       "  likely means that the widgets JavaScript library is either not installed or\n",
       "  not enabled. See the <a href=\"https://ipywidgets.readthedocs.io/en/stable/user_install.html\">Jupyter\n",
       "  Widgets Documentation</a> for setup instructions.\n",
       "</p>\n",
       "<p>\n",
       "  If you're reading this message in another frontend (for example, a static\n",
       "  rendering on GitHub or <a href=\"https://nbviewer.jupyter.org/\">NBViewer</a>),\n",
       "  it may mean that your frontend doesn't currently support widgets.\n",
       "</p>\n"
      ],
      "text/plain": [
       "HBox(children=(IntProgress(value=0, max=140), HTML(value=u'')))"
      ]
     },
     "metadata": {},
     "output_type": "display_data"
    },
    {
     "name": "stdout",
     "output_type": "stream",
     "text": [
      "\n",
      "真·step=10 0.002069846913835507\n",
      "20 step distance error\n"
     ]
    },
    {
     "data": {
      "application/vnd.jupyter.widget-view+json": {
       "model_id": "ffded6c7999442ba92f992b3787063a4",
       "version_major": 2,
       "version_minor": 0
      },
      "text/html": [
       "<p>Failed to display Jupyter Widget of type <code>HBox</code>.</p>\n",
       "<p>\n",
       "  If you're reading this message in the Jupyter Notebook or JupyterLab Notebook, it may mean\n",
       "  that the widgets JavaScript is still loading. If this message persists, it\n",
       "  likely means that the widgets JavaScript library is either not installed or\n",
       "  not enabled. See the <a href=\"https://ipywidgets.readthedocs.io/en/stable/user_install.html\">Jupyter\n",
       "  Widgets Documentation</a> for setup instructions.\n",
       "</p>\n",
       "<p>\n",
       "  If you're reading this message in another frontend (for example, a static\n",
       "  rendering on GitHub or <a href=\"https://nbviewer.jupyter.org/\">NBViewer</a>),\n",
       "  it may mean that your frontend doesn't currently support widgets.\n",
       "</p>\n"
      ],
      "text/plain": [
       "HBox(children=(IntProgress(value=0, max=130), HTML(value=u'')))"
      ]
     },
     "metadata": {},
     "output_type": "display_data"
    },
    {
     "name": "stdout",
     "output_type": "stream",
     "text": [
      "\n",
      "真·step=20 0.004525356134653169\n",
      "30 step distance error\n"
     ]
    },
    {
     "data": {
      "application/vnd.jupyter.widget-view+json": {
       "model_id": "85293aed7ecd4c4fb8bcc0e40a7fa01b",
       "version_major": 2,
       "version_minor": 0
      },
      "text/html": [
       "<p>Failed to display Jupyter Widget of type <code>HBox</code>.</p>\n",
       "<p>\n",
       "  If you're reading this message in the Jupyter Notebook or JupyterLab Notebook, it may mean\n",
       "  that the widgets JavaScript is still loading. If this message persists, it\n",
       "  likely means that the widgets JavaScript library is either not installed or\n",
       "  not enabled. See the <a href=\"https://ipywidgets.readthedocs.io/en/stable/user_install.html\">Jupyter\n",
       "  Widgets Documentation</a> for setup instructions.\n",
       "</p>\n",
       "<p>\n",
       "  If you're reading this message in another frontend (for example, a static\n",
       "  rendering on GitHub or <a href=\"https://nbviewer.jupyter.org/\">NBViewer</a>),\n",
       "  it may mean that your frontend doesn't currently support widgets.\n",
       "</p>\n"
      ],
      "text/plain": [
       "HBox(children=(IntProgress(value=0, max=120), HTML(value=u'')))"
      ]
     },
     "metadata": {},
     "output_type": "display_data"
    },
    {
     "name": "stdout",
     "output_type": "stream",
     "text": [
      "\n",
      "真·step=30 0.007254877861939086\n",
      "40 step distance error\n"
     ]
    },
    {
     "data": {
      "application/vnd.jupyter.widget-view+json": {
       "model_id": "0893f73d5fac4d8d88602d3943d6c605",
       "version_major": 2,
       "version_minor": 0
      },
      "text/html": [
       "<p>Failed to display Jupyter Widget of type <code>HBox</code>.</p>\n",
       "<p>\n",
       "  If you're reading this message in the Jupyter Notebook or JupyterLab Notebook, it may mean\n",
       "  that the widgets JavaScript is still loading. If this message persists, it\n",
       "  likely means that the widgets JavaScript library is either not installed or\n",
       "  not enabled. See the <a href=\"https://ipywidgets.readthedocs.io/en/stable/user_install.html\">Jupyter\n",
       "  Widgets Documentation</a> for setup instructions.\n",
       "</p>\n",
       "<p>\n",
       "  If you're reading this message in another frontend (for example, a static\n",
       "  rendering on GitHub or <a href=\"https://nbviewer.jupyter.org/\">NBViewer</a>),\n",
       "  it may mean that your frontend doesn't currently support widgets.\n",
       "</p>\n"
      ],
      "text/plain": [
       "HBox(children=(IntProgress(value=0, max=110), HTML(value=u'')))"
      ]
     },
     "metadata": {},
     "output_type": "display_data"
    },
    {
     "name": "stdout",
     "output_type": "stream",
     "text": [
      "\n",
      "真·step=40 0.010318846614337948\n",
      "50 step distance error\n"
     ]
    },
    {
     "data": {
      "application/vnd.jupyter.widget-view+json": {
       "model_id": "f40cab4312e04191ab1e993d1e32ddc7",
       "version_major": 2,
       "version_minor": 0
      },
      "text/html": [
       "<p>Failed to display Jupyter Widget of type <code>HBox</code>.</p>\n",
       "<p>\n",
       "  If you're reading this message in the Jupyter Notebook or JupyterLab Notebook, it may mean\n",
       "  that the widgets JavaScript is still loading. If this message persists, it\n",
       "  likely means that the widgets JavaScript library is either not installed or\n",
       "  not enabled. See the <a href=\"https://ipywidgets.readthedocs.io/en/stable/user_install.html\">Jupyter\n",
       "  Widgets Documentation</a> for setup instructions.\n",
       "</p>\n",
       "<p>\n",
       "  If you're reading this message in another frontend (for example, a static\n",
       "  rendering on GitHub or <a href=\"https://nbviewer.jupyter.org/\">NBViewer</a>),\n",
       "  it may mean that your frontend doesn't currently support widgets.\n",
       "</p>\n"
      ],
      "text/plain": [
       "HBox(children=(IntProgress(value=0), HTML(value=u'')))"
      ]
     },
     "metadata": {},
     "output_type": "display_data"
    },
    {
     "name": "stderr",
     "output_type": "stream",
     "text": [
      "IOPub message rate exceeded.\n",
      "The notebook server will temporarily stop sending output\n",
      "to the client in order to avoid crashing it.\n",
      "To change this limit, set the config variable\n",
      "`--NotebookApp.iopub_msg_rate_limit`.\n",
      "\n",
      "Current values:\n",
      "NotebookApp.iopub_msg_rate_limit=1000.0 (msgs/sec)\n",
      "NotebookApp.rate_limit_window=3.0 (secs)\n",
      "\n"
     ]
    }
   ],
   "source": [
    "from tqdm import tqdm_notebook as tqdm\n",
    "import pandas as pd\n",
    "from numpy import *\n",
    "from funcs import *\n",
    "from pandas import Series,DataFrame\n",
    "import pandas as pd\n",
    "import numpy as np\n",
    "from sklearn.externals import joblib\n",
    "from hmmlearn import hmm\n",
    "import warnings\n",
    "warnings.filterwarnings('ignore')\n",
    "%run funcs.py\n",
    "\n",
    "model_geolife_tongyi_300_iter_v_1m15d = joblib.load('../models/model_geolife_tongyi_300_iter_v_1m15d.pkl')\n",
    "\n",
    "# df = pd.read_csv('/mnt/data1/liheyuan/MD/HMM/hmm4/geolife_tongyi_df1.csv',index_col=0)   # index_col=0 可以去掉Unnamed0\n",
    "# cdf = pd.read_csv('/mnt/data1/liheyuan/MD/HMM/hmm4/geolife_tongyi_cdf1.csv',index_col=0)\n",
    "# tdf = pd.read_csv('/mnt/data1/liheyuan/MD/HMM/hmm4/geolife_tongyi_tdf1.csv',index_col=0)\n",
    "# ctdf = pd.read_csv('/mnt/data1/liheyuan/MD/HMM/hmm4/geolife_tongyi_cdf1.csv',index_col=0)\n",
    "\n",
    "cdf = pd.read_csv('/home/liheyuan/Jupyter/trajectory_prediction/trajectory_prediction_1/HMM/hmm4/middata/geolife_tongyi_cdf1.csv',index_col=0)\n",
    "ctdf = pd.read_csv('/home/liheyuan/Jupyter/trajectory_prediction/trajectory_prediction_1/HMM/hmm4/middata/geolife_tongyi_ctdf1.csv',index_col=0)\n",
    "\n",
    "\n",
    "state_to_v = state_mean_v(model_geolife_tongyi_300_iter_v_1m15d,cdf)\n",
    "\n",
    "# 假·隐马尔可夫模型-----------------------------------------------------------------------------------------\n",
    "# 预测一次，后面等距\n",
    "\n",
    "print '假·隐马尔可夫模型'\n",
    "\n",
    "print '1 step distance error'\n",
    "errors = []\n",
    "for timestamp in tqdm(range(29,179)):\n",
    "    errors.append(over_error(model_geolife_tongyi_300_iter_v_1m15d,cdf,ctdf,last_point_num=timestamp,steps=1))\n",
    "print '假·step=1',mean(errors)\n",
    "\n",
    "\n",
    "print '10 step distance error'\n",
    "errors = []\n",
    "for timestamp in tqdm(range(29,169)):\n",
    "    errors.append(over_error(model_geolife_tongyi_300_iter_v_1m15d,cdf,ctdf,last_point_num=timestamp,steps=10))\n",
    "print '假·step=10',mean(errors)\n",
    "\n",
    "\n",
    "print '20 step distance error'\n",
    "errors = []\n",
    "for timestamp in tqdm(range(29,159)):\n",
    "    errors.append(over_error(model_geolife_tongyi_300_iter_v_1m15d,cdf,ctdf,last_point_num=timestamp,steps=20))\n",
    "print '假·step=20',mean(errors)\n",
    "\n",
    "\n",
    "print '30 step distance error'\n",
    "errors = []\n",
    "for timestamp in tqdm(range(29,149)):\n",
    "    errors.append(over_error(model_geolife_tongyi_300_iter_v_1m15d,cdf,ctdf,last_point_num=timestamp,steps=30))\n",
    "print '假·step=30',mean(errors)\n",
    "\n",
    "print '40 step distance error'\n",
    "errors = []\n",
    "for timestamp in tqdm(range(29,139)):\n",
    "    errors.append(over_error(model_geolife_tongyi_300_iter_v_1m15d,cdf,ctdf,last_point_num=timestamp,steps=40))\n",
    "print '假·step=40',mean(errors)\n",
    "\n",
    "\n",
    "print '50 step distance error'\n",
    "errors = []\n",
    "for timestamp in tqdm(range(29,129)):\n",
    "    errors.append(over_error(model_geolife_tongyi_300_iter_v_1m15d,cdf,ctdf,last_point_num=timestamp,steps=50))\n",
    "print '假·step=50',mean(errors)\n",
    "\n",
    "# 真·隐马尔可夫模型-------------------------------------------------------------------------------------------\n",
    "# 每步的预测严格依照上一步预测\n",
    "\n",
    "print '真·隐马尔可夫模型'\n",
    "\n",
    "print '1 step distance error'\n",
    "errors = []\n",
    "for timestamp in tqdm(range(29,179)):\n",
    "    errors.append(over_error1(model_geolife_tongyi_300_iter_v_1m15d,cdf,ctdf,last_point_num=timestamp,steps=1))\n",
    "print '真·step=1',mean(errors)\n",
    "\n",
    "\n",
    "print '10 step distance error'\n",
    "errors = []\n",
    "for timestamp in tqdm(range(29,169)):\n",
    "    errors.append(over_error1(model_geolife_tongyi_300_iter_v_1m15d,cdf,ctdf,last_point_num=timestamp,steps=10))\n",
    "print '真·step=10',mean(errors)\n",
    "\n",
    "\n",
    "print '20 step distance error'\n",
    "errors = []\n",
    "for timestamp in tqdm(range(29,159)):\n",
    "    errors.append(over_error1(model_geolife_tongyi_300_iter_v_1m15d,cdf,ctdf,last_point_num=timestamp,steps=20))\n",
    "print '真·step=20',mean(errors)\n",
    "\n",
    "\n",
    "print '30 step distance error'\n",
    "errors = []\n",
    "for timestamp in tqdm(range(29,149)):\n",
    "    errors.append(over_error1(model_geolife_tongyi_300_iter_v_1m15d,cdf,ctdf,last_point_num=timestamp,steps=30))\n",
    "print '真·step=30',mean(errors)\n",
    "\n",
    "\n",
    "print '40 step distance error'\n",
    "errors = []\n",
    "for timestamp in tqdm(range(29,139)):\n",
    "    errors.append(over_error1(model_geolife_tongyi_300_iter_v_1m15d,cdf,ctdf,last_point_num=timestamp,steps=40))\n",
    "print '真·step=40',mean(errors)\n",
    "\n",
    "\n",
    "print '50 step distance error'\n",
    "errors = []\n",
    "for timestamp in tqdm(range(29,129)):\n",
    "    errors.append(over_error1(model_geolife_tongyi_300_iter_v_1m15d,cdf,ctdf,last_point_num=timestamp,steps=50))\n",
    "print '真·step=50',mean(errors)"
   ]
  },
  {
   "cell_type": "code",
   "execution_count": 2,
   "metadata": {
    "ExecuteTime": {
     "end_time": "2018-02-18T14:58:34.724970Z",
     "start_time": "2018-02-18T09:04:38.306862Z"
    }
   },
   "outputs": [
    {
     "name": "stdout",
     "output_type": "stream",
     "text": [
      "假·隐马尔可夫模型，测试集长度200\n",
      "1 step distance error\n"
     ]
    },
    {
     "data": {
      "application/vnd.jupyter.widget-view+json": {
       "model_id": "576ebf9a3b39446d9681c242a216e771",
       "version_major": 2,
       "version_minor": 0
      },
      "text/html": [
       "<p>Failed to display Jupyter Widget of type <code>HBox</code>.</p>\n",
       "<p>\n",
       "  If you're reading this message in the Jupyter Notebook or JupyterLab Notebook, it may mean\n",
       "  that the widgets JavaScript is still loading. If this message persists, it\n",
       "  likely means that the widgets JavaScript library is either not installed or\n",
       "  not enabled. See the <a href=\"https://ipywidgets.readthedocs.io/en/stable/user_install.html\">Jupyter\n",
       "  Widgets Documentation</a> for setup instructions.\n",
       "</p>\n",
       "<p>\n",
       "  If you're reading this message in another frontend (for example, a static\n",
       "  rendering on GitHub or <a href=\"https://nbviewer.jupyter.org/\">NBViewer</a>),\n",
       "  it may mean that your frontend doesn't currently support widgets.\n",
       "</p>\n"
      ],
      "text/plain": [
       "HBox(children=(IntProgress(value=0, max=150), HTML(value=u'')))"
      ]
     },
     "metadata": {},
     "output_type": "display_data"
    },
    {
     "name": "stdout",
     "output_type": "stream",
     "text": [
      "\n",
      "假·step=1 0.00012407890797876716\n",
      "10 step distance error\n"
     ]
    },
    {
     "data": {
      "application/vnd.jupyter.widget-view+json": {
       "model_id": "f245b751d7e646819ed7112e27bc0fe5",
       "version_major": 2,
       "version_minor": 0
      },
      "text/html": [
       "<p>Failed to display Jupyter Widget of type <code>HBox</code>.</p>\n",
       "<p>\n",
       "  If you're reading this message in the Jupyter Notebook or JupyterLab Notebook, it may mean\n",
       "  that the widgets JavaScript is still loading. If this message persists, it\n",
       "  likely means that the widgets JavaScript library is either not installed or\n",
       "  not enabled. See the <a href=\"https://ipywidgets.readthedocs.io/en/stable/user_install.html\">Jupyter\n",
       "  Widgets Documentation</a> for setup instructions.\n",
       "</p>\n",
       "<p>\n",
       "  If you're reading this message in another frontend (for example, a static\n",
       "  rendering on GitHub or <a href=\"https://nbviewer.jupyter.org/\">NBViewer</a>),\n",
       "  it may mean that your frontend doesn't currently support widgets.\n",
       "</p>\n"
      ],
      "text/plain": [
       "HBox(children=(IntProgress(value=0, max=140), HTML(value=u'')))"
      ]
     },
     "metadata": {},
     "output_type": "display_data"
    },
    {
     "name": "stdout",
     "output_type": "stream",
     "text": [
      "\n",
      "假·step=10 0.0006036500218549198\n",
      "20 step distance error\n"
     ]
    },
    {
     "data": {
      "application/vnd.jupyter.widget-view+json": {
       "model_id": "1f28ce0e7d5a42b0b23f47b633908341",
       "version_major": 2,
       "version_minor": 0
      },
      "text/html": [
       "<p>Failed to display Jupyter Widget of type <code>HBox</code>.</p>\n",
       "<p>\n",
       "  If you're reading this message in the Jupyter Notebook or JupyterLab Notebook, it may mean\n",
       "  that the widgets JavaScript is still loading. If this message persists, it\n",
       "  likely means that the widgets JavaScript library is either not installed or\n",
       "  not enabled. See the <a href=\"https://ipywidgets.readthedocs.io/en/stable/user_install.html\">Jupyter\n",
       "  Widgets Documentation</a> for setup instructions.\n",
       "</p>\n",
       "<p>\n",
       "  If you're reading this message in another frontend (for example, a static\n",
       "  rendering on GitHub or <a href=\"https://nbviewer.jupyter.org/\">NBViewer</a>),\n",
       "  it may mean that your frontend doesn't currently support widgets.\n",
       "</p>\n"
      ],
      "text/plain": [
       "HBox(children=(IntProgress(value=0, max=130), HTML(value=u'')))"
      ]
     },
     "metadata": {},
     "output_type": "display_data"
    },
    {
     "name": "stdout",
     "output_type": "stream",
     "text": [
      "\n",
      "假·step=20 0.0012270762946184127\n",
      "30 step distance error\n"
     ]
    },
    {
     "data": {
      "application/vnd.jupyter.widget-view+json": {
       "model_id": "91bbddceb2ab43af9784e4ea64341f6b",
       "version_major": 2,
       "version_minor": 0
      },
      "text/html": [
       "<p>Failed to display Jupyter Widget of type <code>HBox</code>.</p>\n",
       "<p>\n",
       "  If you're reading this message in the Jupyter Notebook or JupyterLab Notebook, it may mean\n",
       "  that the widgets JavaScript is still loading. If this message persists, it\n",
       "  likely means that the widgets JavaScript library is either not installed or\n",
       "  not enabled. See the <a href=\"https://ipywidgets.readthedocs.io/en/stable/user_install.html\">Jupyter\n",
       "  Widgets Documentation</a> for setup instructions.\n",
       "</p>\n",
       "<p>\n",
       "  If you're reading this message in another frontend (for example, a static\n",
       "  rendering on GitHub or <a href=\"https://nbviewer.jupyter.org/\">NBViewer</a>),\n",
       "  it may mean that your frontend doesn't currently support widgets.\n",
       "</p>\n"
      ],
      "text/plain": [
       "HBox(children=(IntProgress(value=0, max=120), HTML(value=u'')))"
      ]
     },
     "metadata": {},
     "output_type": "display_data"
    },
    {
     "name": "stdout",
     "output_type": "stream",
     "text": [
      "\n",
      "假·step=30 0.0018687654586913816\n",
      "40 step distance error\n"
     ]
    },
    {
     "data": {
      "application/vnd.jupyter.widget-view+json": {
       "model_id": "ab0eaa9817bd41a6b3184e0b48ed45ff",
       "version_major": 2,
       "version_minor": 0
      },
      "text/html": [
       "<p>Failed to display Jupyter Widget of type <code>HBox</code>.</p>\n",
       "<p>\n",
       "  If you're reading this message in the Jupyter Notebook or JupyterLab Notebook, it may mean\n",
       "  that the widgets JavaScript is still loading. If this message persists, it\n",
       "  likely means that the widgets JavaScript library is either not installed or\n",
       "  not enabled. See the <a href=\"https://ipywidgets.readthedocs.io/en/stable/user_install.html\">Jupyter\n",
       "  Widgets Documentation</a> for setup instructions.\n",
       "</p>\n",
       "<p>\n",
       "  If you're reading this message in another frontend (for example, a static\n",
       "  rendering on GitHub or <a href=\"https://nbviewer.jupyter.org/\">NBViewer</a>),\n",
       "  it may mean that your frontend doesn't currently support widgets.\n",
       "</p>\n"
      ],
      "text/plain": [
       "HBox(children=(IntProgress(value=0, max=110), HTML(value=u'')))"
      ]
     },
     "metadata": {},
     "output_type": "display_data"
    },
    {
     "name": "stdout",
     "output_type": "stream",
     "text": [
      "\n",
      "假·step=40 0.0025207577596830203\n",
      "50 step distance error\n"
     ]
    },
    {
     "data": {
      "application/vnd.jupyter.widget-view+json": {
       "model_id": "70d5914b75884ebca599e291bbe478ee",
       "version_major": 2,
       "version_minor": 0
      },
      "text/html": [
       "<p>Failed to display Jupyter Widget of type <code>HBox</code>.</p>\n",
       "<p>\n",
       "  If you're reading this message in the Jupyter Notebook or JupyterLab Notebook, it may mean\n",
       "  that the widgets JavaScript is still loading. If this message persists, it\n",
       "  likely means that the widgets JavaScript library is either not installed or\n",
       "  not enabled. See the <a href=\"https://ipywidgets.readthedocs.io/en/stable/user_install.html\">Jupyter\n",
       "  Widgets Documentation</a> for setup instructions.\n",
       "</p>\n",
       "<p>\n",
       "  If you're reading this message in another frontend (for example, a static\n",
       "  rendering on GitHub or <a href=\"https://nbviewer.jupyter.org/\">NBViewer</a>),\n",
       "  it may mean that your frontend doesn't currently support widgets.\n",
       "</p>\n"
      ],
      "text/plain": [
       "HBox(children=(IntProgress(value=0), HTML(value=u'')))"
      ]
     },
     "metadata": {},
     "output_type": "display_data"
    },
    {
     "name": "stdout",
     "output_type": "stream",
     "text": [
      "\n",
      "假·step=50 0.0031791312281895003\n"
     ]
    }
   ],
   "source": [
    "from tqdm import tqdm_notebook as tqdm\n",
    "import pandas as pd\n",
    "from numpy import *\n",
    "from funcs import *\n",
    "from pandas import Series,DataFrame\n",
    "import pandas as pd\n",
    "import numpy as np\n",
    "from sklearn.externals import joblib\n",
    "from hmmlearn import hmm\n",
    "import warnings\n",
    "warnings.filterwarnings('ignore')\n",
    "%run funcs.py\n",
    "\n",
    "model_geolife_tongyi_300_iter_v_1m15d = joblib.load('../models/model_geolife_tongyi_300_iter_v_1m15d.pkl')\n",
    "\n",
    "# df = pd.read_csv('/mnt/data1/liheyuan/MD/HMM/hmm4/geolife_tongyi_df1.csv',index_col=0)   # index_col=0 可以去掉Unnamed0\n",
    "# cdf = pd.read_csv('/mnt/data1/liheyuan/MD/HMM/hmm4/geolife_tongyi_cdf1.csv',index_col=0)\n",
    "# tdf = pd.read_csv('/mnt/data1/liheyuan/MD/HMM/hmm4/geolife_tongyi_tdf1.csv',index_col=0)\n",
    "# ctdf = pd.read_csv('/mnt/data1/liheyuan/MD/HMM/hmm4/geolife_tongyi_cdf1.csv',index_col=0)\n",
    "\n",
    "cdf = pd.read_csv('/home/liheyuan/Jupyter/trajectory_prediction/trajectory_prediction_1/HMM/hmm4/middata/geolife_tongyi_cdf1.csv',index_col=0)\n",
    "ctdf = pd.read_csv('/home/liheyuan/Jupyter/trajectory_prediction/trajectory_prediction_1/HMM/hmm4/middata/geolife_tongyi_ctdf1.csv',index_col=0)\n",
    "\n",
    "\n",
    "state_to_v = state_mean_v(model_geolife_tongyi_300_iter_v_1m15d,cdf)\n",
    "\n",
    "# 假·隐马尔可夫模型-----------------------------------------------------------------------------------------\n",
    "# 预测一次，后面等距\n",
    "\n",
    "print '假·隐马尔可夫模型，测试集长度200'\n",
    "\n",
    "print '1 step distance error'\n",
    "errors = []\n",
    "for timestamp in tqdm(range(29,179)):\n",
    "    errors.append(over_error_200(model_geolife_tongyi_300_iter_v_1m15d,cdf,ctdf,last_point_num=timestamp,steps=1))\n",
    "print '假·step=1',mean(errors)\n",
    "\n",
    "\n",
    "print '10 step distance error'\n",
    "errors = []\n",
    "for timestamp in tqdm(range(29,169)):\n",
    "    errors.append(over_error_200(model_geolife_tongyi_300_iter_v_1m15d,cdf,ctdf,last_point_num=timestamp,steps=10))\n",
    "print '假·step=10',mean(errors)\n",
    "\n",
    "\n",
    "print '20 step distance error'\n",
    "errors = []\n",
    "for timestamp in tqdm(range(29,159)):\n",
    "    errors.append(over_error_200(model_geolife_tongyi_300_iter_v_1m15d,cdf,ctdf,last_point_num=timestamp,steps=20))\n",
    "print '假·step=20',mean(errors)\n",
    "\n",
    "\n",
    "print '30 step distance error'\n",
    "errors = []\n",
    "for timestamp in tqdm(range(29,149)):\n",
    "    errors.append(over_error_200(model_geolife_tongyi_300_iter_v_1m15d,cdf,ctdf,last_point_num=timestamp,steps=30))\n",
    "print '假·step=30',mean(errors)\n",
    "\n",
    "print '40 step distance error'\n",
    "errors = []\n",
    "for timestamp in tqdm(range(29,139)):\n",
    "    errors.append(over_error_200(model_geolife_tongyi_300_iter_v_1m15d,cdf,ctdf,last_point_num=timestamp,steps=40))\n",
    "print '假·step=40',mean(errors)\n",
    "\n",
    "\n",
    "print '50 step distance error'\n",
    "errors = []\n",
    "for timestamp in tqdm(range(29,129)):\n",
    "    errors.append(over_error_200(model_geolife_tongyi_300_iter_v_1m15d,cdf,ctdf,last_point_num=timestamp,steps=50))\n",
    "print '假·step=50',mean(errors)"
   ]
  }
 ],
 "metadata": {
  "kernelspec": {
   "display_name": "Python 2",
   "language": "python",
   "name": "python2"
  },
  "language_info": {
   "codemirror_mode": {
    "name": "ipython",
    "version": 2
   },
   "file_extension": ".py",
   "mimetype": "text/x-python",
   "name": "python",
   "nbconvert_exporter": "python",
   "pygments_lexer": "ipython2",
   "version": "2.7.14"
  },
  "nbTranslate": {
   "displayLangs": [
    "*"
   ],
   "hotkey": "alt-t",
   "langInMainMenu": true,
   "sourceLang": "en",
   "targetLang": "fr",
   "useGoogleTranslate": true
  },
  "toc": {
   "nav_menu": {},
   "number_sections": true,
   "sideBar": true,
   "skip_h1_title": true,
   "toc_cell": false,
   "toc_position": {},
   "toc_section_display": "block",
   "toc_window_display": false
  },
  "varInspector": {
   "cols": {
    "lenName": 16,
    "lenType": 16,
    "lenVar": 40
   },
   "kernels_config": {
    "python": {
     "delete_cmd_postfix": "",
     "delete_cmd_prefix": "del ",
     "library": "var_list.py",
     "varRefreshCmd": "print(var_dic_list())"
    },
    "r": {
     "delete_cmd_postfix": ") ",
     "delete_cmd_prefix": "rm(",
     "library": "var_list.r",
     "varRefreshCmd": "cat(var_dic_list()) "
    }
   },
   "types_to_exclude": [
    "module",
    "function",
    "builtin_function_or_method",
    "instance",
    "_Feature"
   ],
   "window_display": false
  }
 },
 "nbformat": 4,
 "nbformat_minor": 2
}
